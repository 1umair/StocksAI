{
  "cells": [
    {
      "cell_type": "markdown",
      "metadata": {
        "id": "heu9cINE2MQQ"
      },
      "source": [
        "# Notes"
      ]
    },
    {
      "cell_type": "markdown",
      "metadata": {
        "id": "xeL914Sh2Qp8"
      },
      "source": [
        "* Finbert is already pre trained, our goal is to fine tune and test on our dataset\n",
        "\n",
        "\n",
        "Pre trained Model\n",
        "\n",
        "* Evaluate not fine tuned pre trained model for (3/5 num classes, 128/256/512 max sequence lenghts) and get metrics\n",
        "\n",
        "* Fine tune model and compare metrics for (3/5 num classes, 128/256/512 max sequence lenghts) if possible\n",
        "\n",
        "* Evaluation Metrics:\n",
        "We returned averaged loss, aggregated true labels and aggregated prediction labels to get the accuracy and confusion matrix\n",
        "\n",
        "* Techniques\n",
        "Transfer learning (pretrained on large dataset, fine tuned on smaller one),\n",
        "Output layer modifications\n",
        "\n",
        "* Challenges\n",
        "  \n",
        "  Very large model so computationaly expensive (need to find tricks to make it work)\n",
        "  - Divide input into chunks\n",
        "  - Reducing batch size\n",
        "  - * RAM issues: use more powerful gpus (nvidia A100), torch empty cache, gradients checkpoints, torch.no_grad() on evaluation.\n",
        "\n",
        "  \n",
        "  Bert model have a max lenght of 512. Our dataset (since it's earning calls have an average of 10000+ tokens)\n",
        "  - Tokenize data using Bert Tokenizer\n",
        "  - Split Input data in chunks and attribute ID to link them (chunks with same id belong to same input data)\n",
        "  - Batching has to be modified. All chunks related to the same input data need to be in the same batch.\n",
        "  - Therefore Batch Size represent number of input data (not chunks) where all chunks of an input data will be in the same batch.\n",
        "  - In a similar way, Training Validation Testing sets will be determined by input ID.\n",
        "  - In summary, chunks of an input data will not be spread across set or batches.\n",
        "  - This data pre-processing explains why batch size is small\n",
        "\n",
        "\n",
        "  Model was having difficulties learning:\n",
        "  - Even though I could see different chunks getting different labeling, when we aggregated back (using averaging or most occuring label) the overal language of the transcript (chunks aggregated by id) was always neutral. This could be explained by the fact that earning calls tends to be sugercoated.\n",
        "  - A solution was to apply further clean up techniques to the transcripts (trimming the text by removing section not related to the transcript [website specific since they were web scrapped], Remove punctuations and urls). This lowered the training and validation loss but there the whole transcript was still getting labeled as positive.\n",
        "  - Next, we attempted to trim the text by keeping only a percentage of the transcript (attempting to target the ceo and cfo passages). Started by trimming 75, 50, 30% of the transcript. As we increase the percentage, the training and validation loss kept going down but the overall classification was still the same.\n",
        "  - Since these still did not work, we only focus on the questions and answers section for each dataset.\n",
        "  - We modify the loss function to included weights such that misclassification of negative and neutral labels will be heavily penalized\n",
        "\n",
        "  - Extract keywords from the trimmed transcripts and use as input data\n",
        "  - Since all the data is getting labeled as positive. Use the probability attributed to label 2 as thresholds to determine true sentiment. For example, if probs = [0.2,0.2,0.6] probability for label positive is 0.6. if prob[2] < 0.5, label as negative, else if prob[2] < 0.75 label as neutral, else positive...\n",
        "  - Try other optimizer functions: RMSprop\n",
        "  - Try other loss function compatible with multi class classification: hinge loss\n",
        "  - Increasing learning rate leads to worse losses\n",
        "\n",
        "  - Best hyper params for lowest loss\n",
        "  - Change finbert model\n",
        "  - Use weights until epochs n6\n",
        "  - Learning Rate Scheduler Step Size = 2, Learning Rate Scheduler Gamma = 1.5. Starting with a very low learning rate and increasing it gradually using a scheduler to mitigate overfitting.\n"
      ]
    },
    {
      "cell_type": "markdown",
      "metadata": {
        "id": "yr9CX1KzdEO8"
      },
      "source": [
        "# Set up"
      ]
    },
    {
      "cell_type": "code",
      "execution_count": 3,
      "metadata": {
        "colab": {
          "base_uri": "https://localhost:8080/"
        },
        "id": "WteuaLkKQQlF",
        "outputId": "3d0ac1c1-d875-4a0f-974c-38b871b53a0d"
      },
      "outputs": [
        {
          "output_type": "stream",
          "name": "stdout",
          "text": [
            "Mounted at /content/drive\n"
          ]
        }
      ],
      "source": [
        "from google.colab import drive\n",
        "drive.mount('/content/drive')\n",
        "\n"
      ]
    },
    {
      "cell_type": "code",
      "execution_count": 4,
      "metadata": {
        "colab": {
          "base_uri": "https://localhost:8080/"
        },
        "id": "J4EYl_WlAqIs",
        "outputId": "ab2e554a-55b3-4002-8ea0-f96a00ebe02c"
      },
      "outputs": [
        {
          "output_type": "stream",
          "name": "stdout",
          "text": [
            "/content/drive/MyDrive/CS7643Finbert\n"
          ]
        }
      ],
      "source": [
        "import sys\n",
        "\n",
        "optional_dir = \"/CS7643Finbert\"\n",
        "#optional_dir = \"\"\n",
        "\n",
        "\n",
        "directory = '/content/drive/MyDrive/'+str(optional_dir)\n",
        "\n",
        "sys.path.append(directory)\n",
        "\n",
        "%cd '/content/drive/MyDrive/CS7643Finbert'"
      ]
    },
    {
      "cell_type": "code",
      "execution_count": 5,
      "metadata": {
        "id": "Q9U5OgilDi7q"
      },
      "outputs": [],
      "source": [
        "import torchtext\n",
        "import torch\n",
        "import spacy\n",
        "import tqdm\n",
        "import numpy\n",
        "import numpy as np\n",
        "import jupyter\n",
        "import notebook\n",
        "import torch.optim as optim\n",
        "from transformers import  BertModel, BertTokenizer, BertForSequenceClassification, AdamW, BertConfig\n",
        "import torch.nn as nn\n",
        "import os\n",
        "import re\n",
        "from torch.utils.data import TensorDataset, random_split, DataLoader, BatchSampler, SequentialSampler\n",
        "import gc\n",
        "import pandas as pd\n",
        "from datetime import datetime, timedelta\n",
        "import sqlite3\n",
        "from sklearn.model_selection import train_test_split\n",
        "from sklearn.metrics import accuracy_score, confusion_matrix, classification_report\n",
        "from torch.utils.checkpoint import checkpoint\n",
        "from collections import Counter\n"
      ]
    },
    {
      "cell_type": "code",
      "execution_count": 6,
      "metadata": {
        "id": "692Iqgc-rIxg"
      },
      "outputs": [],
      "source": [
        "model_name = 'yiyanghkust/finbert-pretrain'"
      ]
    },
    {
      "cell_type": "markdown",
      "metadata": {
        "id": "OfI8nmhbdZj5"
      },
      "source": [
        "# Process dataset"
      ]
    },
    {
      "cell_type": "markdown",
      "metadata": {
        "id": "j75Cz4906NaV"
      },
      "source": [
        "## Dataset Parameters"
      ]
    },
    {
      "cell_type": "code",
      "execution_count": null,
      "metadata": {
        "id": "pb6PLX2F6URE"
      },
      "outputs": [],
      "source": [
        "num_classes = 3\n",
        "max_lenght = 128\n",
        "\n",
        "very_positive_thres = 7\n",
        "positive_thres = 3\n",
        "negative_thres =  -3\n",
        "very_negative_thres =  -7"
      ]
    },
    {
      "cell_type": "markdown",
      "metadata": {
        "id": "ats457SpJhbU"
      },
      "source": [
        "## Load Dataset"
      ]
    },
    {
      "cell_type": "code",
      "execution_count": null,
      "metadata": {
        "colab": {
          "base_uri": "https://localhost:8080/",
          "height": 49,
          "referenced_widgets": [
            "3b1e2c0af30c4ed4848f9a35fb646a73",
            "21c9ae7950dd44af9c4bd7c4a1141ff4",
            "40fb13126b554e7aa18a7ee3652ca097",
            "e151ce3a77f94e5c94ed3e8639857208",
            "f483f74d56904ad3b1a81cfd70083151",
            "434160119e0445b3b0681493bd1c65ed",
            "6e91d98d91144f4289d3a7446d934f9e",
            "5c754425b3db469daf90914c07914c67",
            "d708144d3e454b2cbf2c9ff884eb9e37",
            "ecc77e7bcaf949dba261cf3afe7633f2",
            "1948f20779a94604a0ed852822e8c9e2"
          ]
        },
        "id": "hDRFUjIEGH8t",
        "outputId": "6857450c-507f-4b70-fb19-0ff95de16e76"
      },
      "outputs": [
        {
          "output_type": "display_data",
          "data": {
            "text/plain": [
              "vocab.txt:   0%|          | 0.00/226k [00:00<?, ?B/s]"
            ],
            "application/vnd.jupyter.widget-view+json": {
              "version_major": 2,
              "version_minor": 0,
              "model_id": "3b1e2c0af30c4ed4848f9a35fb646a73"
            }
          },
          "metadata": {}
        }
      ],
      "source": [
        "# Load FinBERT tokenizer\n",
        "#tokenizer = BertTokenizer.from_pretrained('ProsusAI/finbert')\n",
        "tokenizer = BertTokenizer.from_pretrained(model_name)\n"
      ]
    },
    {
      "cell_type": "code",
      "execution_count": null,
      "metadata": {
        "colab": {
          "base_uri": "https://localhost:8080/"
        },
        "id": "86bCLO2p8FlC",
        "outputId": "fb35ad34-7c50-441c-dc0e-1818bcdf9a08"
      },
      "outputs": [
        {
          "output_type": "execute_result",
          "data": {
            "text/plain": [
              "<sqlite3.Cursor at 0x7fe07d4c0740>"
            ]
          },
          "metadata": {},
          "execution_count": 28
        }
      ],
      "source": [
        "import sqlite3\n",
        "conn = sqlite3.connect('../transcripts.db')\n",
        "\n",
        "cursor = conn.cursor()\n",
        "\n",
        "cursor.execute('SELECT * FROM transcripts')\n"
      ]
    },
    {
      "cell_type": "code",
      "execution_count": null,
      "metadata": {
        "id": "AY8p53D4oJWQ"
      },
      "outputs": [],
      "source": [
        "data = cursor.fetchall()"
      ]
    },
    {
      "cell_type": "code",
      "execution_count": null,
      "metadata": {
        "id": "IacO5LssgleE"
      },
      "outputs": [],
      "source": [
        "conn.close()"
      ]
    },
    {
      "cell_type": "markdown",
      "metadata": {
        "id": "YqfEEX3UJB_J"
      },
      "source": [
        "# Get Dataset / Tokenize"
      ]
    },
    {
      "cell_type": "code",
      "execution_count": null,
      "metadata": {
        "colab": {
          "base_uri": "https://localhost:8080/"
        },
        "id": "LGE3Rp-mgwcv",
        "outputId": "62ebeb5f-3067-41ff-ecf9-b4624d9a88b5"
      },
      "outputs": [
        {
          "output_type": "stream",
          "name": "stderr",
          "text": [
            "[nltk_data] Downloading package stopwords to /root/nltk_data...\n",
            "[nltk_data]   Unzipping corpora/stopwords.zip.\n"
          ]
        }
      ],
      "source": [
        "import nltk\n",
        "nltk.download('stopwords')\n",
        "from nltk.corpus import stopwords\n",
        "import re\n",
        "import string"
      ]
    },
    {
      "cell_type": "code",
      "execution_count": null,
      "metadata": {
        "id": "-d6bjpkF9XAv"
      },
      "outputs": [],
      "source": [
        "encoded_inputs = []\n",
        "encoded_attention_mask = []\n",
        "text_ids = []\n",
        "labels = []\n",
        "\n",
        "for text_id, row in enumerate(data):\n",
        "  text_original = row[10]\n",
        "  text_cleaned = text_original\n",
        "  start_index = re.compile(r\"Question\\s*-\\s*and\\s*-\\s*Answer\\s*Session\\s*Operator\").search(text_original)\n",
        "  if start_index is None:\n",
        "    start_index = re.compile(r\"Question\\s*-\\s*and\\s*-\\s*Answer\\s*Session\").search(text_original)\n",
        "  if start_index is None:\n",
        "\n",
        "    #print(\"Error: 'Question-and-Answer' not found in the file.\"+str(row[3]))\n",
        "    continue\n",
        "  end_index = re.compile(r\"Read\\s+more\\s+current\").search(text_original)\n",
        "  if end_index is None:\n",
        "\n",
        "      #print(\"Error: 'Read more current' not found in the file. \"+str(row[3]))\n",
        "      continue\n",
        "  if start_index and end_index :\n",
        "      # Remove everything before \"Question-and-Answer\" and after \"Read more current\"\n",
        "      text_cleaned = text_original[start_index.start() + len(\"Question-and-Answer Session Operator\"):end_index.start()].strip()\n",
        "\n",
        "  # Convert to lower case\n",
        "  text_cleaned = text_cleaned.lower()\n",
        "\n",
        "  # Remove punctuations\n",
        "  text_cleaned = text_cleaned.translate(str.maketrans('', '', string.punctuation))\n",
        "  # Remove urls\n",
        "  text_cleaned = re.compile(r'https?://\\S+|www.\\S+').sub('', text_cleaned)\n",
        "\n",
        "  text_cleaned_no_stopwords = ' '.join([word for word in text_cleaned.split() if word not in stopwords.words('english')])\n",
        "  text_cleaned_no_stopwords_stemmed = ' '.join([nltk.PorterStemmer().stem(word) for word in text_cleaned_no_stopwords.split()])\n",
        "\n",
        "  # Specific to Bert models\n",
        "  # Encode this way because we want to divide into chunks (max lenghts is exceeded here)\n",
        "  encoded_input = tokenizer.encode_plus(\n",
        "    #text_cleaned,\n",
        "    text_cleaned_no_stopwords_stemmed,\n",
        "    #row[12],\n",
        "    add_special_tokens=False,  # Add [CLS] and [SEP] tokens\n",
        "    return_tensors='pt'       # Return PyTorch tensors\n",
        "    )\n",
        "\n",
        "  price_movement = ((row[14]-row[15])/row[15])*100\n",
        "\n",
        "  if num_classes == 3:\n",
        "\n",
        "    if price_movement < negative_thres:\n",
        "      label = 0 # negative\n",
        "    elif price_movement < positive_thres:\n",
        "      label = 1 # neutral\n",
        "    else:\n",
        "      label = 2 # positive\n",
        "\n",
        "  else:\n",
        "\n",
        "    if price_movement < very_negative_thres:\n",
        "      label = 0 # very negative\n",
        "    elif price_movement < negative_thres:\n",
        "      label = 1 # negative\n",
        "    elif price_movement < positive_thres:\n",
        "      label = 2 # neutral\n",
        "    elif price_movement < very_positive_thres:\n",
        "      label = 3 # positive\n",
        "    else:\n",
        "      label = 4 # very positive\n",
        "\n",
        "\n",
        "  # Chunking method inspired from https://towardsdatascience.com/how-to-apply-transformers-to-any-length-of-text-a5601410af7f\n",
        "\n",
        "  # Get chunks of lenght max_lenght -2 (leaving space for special tokens) for the input data\n",
        "  input_chunks = encoded_input['input_ids'][0].split(max_lenght-2)\n",
        "  mask_chunks = encoded_input['attention_mask'][0].split(max_lenght-2)\n",
        "\n",
        "  processed_input_chunks = []\n",
        "  processed_mask_chunk = []\n",
        "  for i in range(len(input_chunks)):\n",
        "\n",
        "    #add special tokens\n",
        "    input_chunk = torch.cat([torch.tensor([101]), input_chunks[i], torch.tensor([102])])\n",
        "    mask_chunk = torch.cat([torch.tensor([1]), mask_chunks[i], torch.tensor([1])])\n",
        "\n",
        "    # Pad if needed\n",
        "    pad_len = max_lenght - input_chunk.shape[0]\n",
        "    # check if tensor length satisfies required chunk size\n",
        "    if pad_len > 0:\n",
        "      input_chunk = torch.cat([\n",
        "          input_chunk, torch.Tensor([0] * pad_len)])\n",
        "      mask_chunk = torch.cat([\n",
        "          mask_chunk, torch.Tensor([0] * pad_len)])\n",
        "\n",
        "    processed_input_chunks.append(input_chunk)\n",
        "    processed_mask_chunk.append(mask_chunk)\n",
        "\n",
        "  # Append chunked inputs, masks, ids to group chunks and label to lists\n",
        "  encoded_inputs.extend(processed_input_chunks)\n",
        "  encoded_attention_mask.extend(processed_mask_chunk)\n",
        "  text_ids.extend([text_id] * len(processed_input_chunks))\n",
        "  labels.extend([label] * len(processed_input_chunks))\n",
        "\n",
        "\n"
      ]
    },
    {
      "cell_type": "code",
      "execution_count": null,
      "metadata": {
        "id": "0DL4FeGsxupl"
      },
      "outputs": [],
      "source": [
        "# Convert to tensors\n",
        "encoded_inputs_pt = torch.stack(encoded_inputs, dim=0)\n",
        "encoded_attention_mask_pt = torch.stack(encoded_attention_mask, dim=0)\n",
        "text_ids_pt = torch.tensor(text_ids)\n",
        "labels_pt = torch.tensor(labels)"
      ]
    },
    {
      "cell_type": "code",
      "execution_count": null,
      "metadata": {
        "id": "m4gPVY2rQKin"
      },
      "outputs": [],
      "source": [
        "# Define the directory path to save the tensors\n",
        "save_dir = 'inputTensor/'\n",
        "\n",
        "# Save encoded inputs and labels to disk\n",
        "torch.save(encoded_inputs_pt, os.path.join(save_dir, 'encoded_inputs_'+str(max_lenght)+\"_\"+str(num_classes)+'.pt'))\n",
        "torch.save(encoded_attention_mask_pt, os.path.join(save_dir, 'encoded_attention_mask_'+str(max_lenght)+\"_\"+str(num_classes)+'.pt'))\n",
        "torch.save(text_ids_pt, os.path.join(save_dir, 'text_ids_'+str(max_lenght)+\"_\"+str(num_classes)+'.pt'))\n",
        "torch.save(labels_pt, os.path.join(save_dir, 'labels_'+str(max_lenght)+\"_\"+str(num_classes)+'.pt'))"
      ]
    },
    {
      "cell_type": "markdown",
      "metadata": {
        "id": "SKUOST-07kDo"
      },
      "source": [
        "# Pre Trained Model"
      ]
    },
    {
      "cell_type": "markdown",
      "metadata": {
        "id": "3xQgkwks1FDZ"
      },
      "source": [
        "## Utils"
      ]
    },
    {
      "cell_type": "code",
      "source": [
        "class FinbertModel(nn.Module):\n",
        "    def __init__(self, model_name, num_labels=3, device=\"cpu\"):\n",
        "        super(FinbertModel, self).__init__()\n",
        "        self.num_labels = num_labels\n",
        "        self.finbert = BertForSequenceClassification.from_pretrained(model_name)\n",
        "        self.finbert = self.finbert.to(device)\n",
        "        self.config = BertConfig(os.path.join(model_name, '/config.json'))\n",
        "        self.dropout = nn.Dropout(self.config.hidden_dropout_prob).to(device)\n",
        "        self.classifier = nn.Linear(self.config.hidden_size, num_labels).to(device)\n",
        "        nn.init.xavier_normal_(self.classifier.weight)\n",
        "\n",
        "    def forward(self, input_ids, attention_mask=None):\n",
        "        pooled_output = self.finbert(input_ids=input_ids,\n",
        "                                     attention_mask=attention_mask)\n",
        "\n",
        "        outputs = self.dropout(pooled_output.hidden_states[-1])\n",
        "\n",
        "        #hidden_states = outputs.hidden_states[-1]\n",
        "        #dropout_output = torch.nn.functional.dropout(hidden_states, p=0.1, training=model.training)\n",
        "\n",
        "\n",
        "        logits = self.classifier(outputs)\n",
        "        return logits"
      ],
      "metadata": {
        "id": "pBvxjY2oez6q"
      },
      "execution_count": 38,
      "outputs": []
    },
    {
      "cell_type": "code",
      "execution_count": 39,
      "metadata": {
        "id": "piZD5EpaE92y"
      },
      "outputs": [],
      "source": [
        "class CustomLoss(nn.Module):\n",
        "    def __init__(self, weight=None):\n",
        "        super(CustomLoss, self).__init__()\n",
        "        self.weight = weight.to(\"cuda\")\n",
        "\n",
        "    def forward(self, inputs, targets):\n",
        "        ce_loss = nn.functional.cross_entropy(inputs.to(\"cuda\"), targets.to(\"cuda\"), weight=self.weight).to(\"cuda\")\n",
        "        return ce_loss\n"
      ]
    },
    {
      "cell_type": "code",
      "execution_count": 40,
      "metadata": {
        "id": "StlsEuaVUmhw"
      },
      "outputs": [],
      "source": [
        "def load_input_tensors(max_lenght, num_classes):\n",
        "  # Define the directory path to save the tensors\n",
        "  save_dir = 'inputTensor/'\n",
        "\n",
        "  # Load the saved tensors from disk\n",
        "  encoded_inputs_loaded = torch.load(os.path.join(save_dir, 'encoded_inputs_'+str(max_lenght)+\"_\"+str(num_classes)+'.pt'))\n",
        "  labels_loaded = torch.load(os.path.join(save_dir, 'labels_'+str(max_lenght)+\"_\"+str(num_classes)+'.pt'))\n",
        "  encoded_attention_mask_loaded = torch.load(os.path.join(save_dir, 'encoded_attention_mask_'+str(max_lenght)+\"_\"+str(num_classes)+'.pt'))\n",
        "  text_ids_loaded = torch.load(os.path.join(save_dir, 'text_ids_'+str(max_lenght)+\"_\"+str(num_classes)+'.pt'))\n",
        "\n",
        "  return encoded_inputs_loaded, labels_loaded, encoded_attention_mask_loaded, text_ids_loaded\n",
        "\n",
        "\n",
        "def get_model(num_classes, device, model_name):\n",
        "\n",
        "  model = BertForSequenceClassification.from_pretrained(model_name, num_labels=num_classes).to(device)\n",
        "\n",
        "  if num_classes == 5:\n",
        "\n",
        "    model.classifier = nn.Linear(model.classifier.in_features, 5).to(device)\n",
        "    model.softmax = nn.Softmax(dim=1).to(device)\n",
        "  weights = torch.tensor([2.0,2.0, 1.0])\n",
        "  criterion = CustomLoss(weight=weights).to(\"cuda\")\n",
        "  #criterion = nn.CrossEntropyLoss().to(device)\n",
        "\n",
        "  #new_model = ThresholdedModel(model)\n",
        "\n",
        "  return model, criterion\n",
        "\n",
        "def hinge_loss(logits, labels):\n",
        "    \"\"\"\n",
        "    Compute Hinge Loss for multi-class classification\n",
        "    \"\"\"\n",
        "    num_classes = logits.size(1)\n",
        "    correct_scores = logits[torch.arange(logits.size(0)), labels]\n",
        "    margins = logits - correct_scores.view(-1, 1) + 1.0\n",
        "    margins[torch.arange(logits.size(0)), labels] = 0.0\n",
        "    loss = nn.functional.relu(margins).sum() / logits.size(0)\n",
        "    return loss\n",
        "\n",
        "def save_training_data(training_data, num_classes,  max_lenght):\n",
        "  filename = 'outputTensor/training_data+'+str(num_classes)+\"_\"+str(max_lenght)+'.txt'\n",
        "  outfile = open(filename, 'w')\n",
        "  outfile.writelines([str(i)+'\\n' for i in training_data])\n",
        "  outfile.close()"
      ]
    },
    {
      "cell_type": "code",
      "execution_count": 41,
      "metadata": {
        "id": "ALFr03zGrMvj"
      },
      "outputs": [],
      "source": [
        "def get_batch_unique_ids(dataset):\n",
        "    return torch.unique(dataset[:][1])  # Assuming IDs are at index 1\n",
        "\n",
        "def group_samples_by_ids(dataset, unique_ids):\n",
        "    grouped_samples = {id_.item(): [[],[],[],[]] for id_ in unique_ids}\n",
        "    for input, id, label, mask in dataset:\n",
        "      id_ = id.item()\n",
        "      grouped_samples[id_][0].extend([input])\n",
        "      grouped_samples[id_][1].extend([id])\n",
        "      grouped_samples[id_][2].extend([label])\n",
        "      grouped_samples[id_][3].extend([mask])\n",
        "    return grouped_samples\n",
        "\n",
        "def create_batches(dataset, batch_size=1):\n",
        "\n",
        "  # Get unique IDs\n",
        "  unique_ids = get_batch_unique_ids(dataset)\n",
        "  # Group samples by IDs\n",
        "  grouped_samples = group_samples_by_ids(dataset, unique_ids)\n",
        "  # Create batches of unique IDs\n",
        "  batched_unique_ids = [unique_ids[i:i+BATCH_SIZE] for i in range(0, len(unique_ids), BATCH_SIZE)]\n",
        "  # For each batch of unique IDs, put all dataset rows that have those unique IDs\n",
        "  batched_data = {}\n",
        "  for batch_id, batch_ids in enumerate(batched_unique_ids):\n",
        "    batched_data[batch_id] = [[],[],[],[]]\n",
        "    for id_ in batch_ids:\n",
        "        batched_data[batch_id][0].extend(grouped_samples[id_.item()][0])\n",
        "        batched_data[batch_id][1].extend(grouped_samples[id_.item()][1])\n",
        "        batched_data[batch_id][2].extend(grouped_samples[id_.item()][2])\n",
        "        batched_data[batch_id][3].extend(grouped_samples[id_.item()][3])\n",
        "\n",
        "  return list(batched_data.values())\n",
        "\n",
        "def get_aggregated_probabilities(probs, ids, labels):\n",
        "  input_ids, counts = torch.unique_consecutive(ids, return_counts=True)\n",
        "\n",
        "  return torch.stack([\n",
        "      probs[ids == input_id].mean(dim=0)\n",
        "      for input_id in input_ids\n",
        "  ]), torch.stack([ labels[ids == input_id].mean(dim=0) for input_id in input_ids])\n",
        "\n",
        "\n",
        "\n",
        "def get_aggregated_predictions_and_true_labels(probs, ids, labels):\n",
        "  input_ids, counts = torch.unique_consecutive(ids, return_counts=True)\n",
        "\n",
        "#most_occurring prediction\n",
        "#torch.stack([\n",
        "#     torch.tensor(Counter(probs[ids == input_id].argmax(dim=1)).most_common(1)[0][0])\n",
        "#      for input_id in input_ids\n",
        "#  ])\n",
        "\n",
        "\n",
        "  #Averaged prediction label torch.argmax(torch.stack([ probs[ids == input_id].mean(dim=0) for input_id in input_ids]), dim=1)\n",
        "  return torch.argmax(torch.stack([ probs[ids == input_id].mean(dim=0) for input_id in input_ids])\n",
        "  , dim=1) ,torch.stack([ labels[ids == input_id].mean(dim=0) for input_id in input_ids])\n",
        "\n",
        "\n",
        "def save_output_tensors(all_pred_labels, all_true_labels, all_ids, total_loss, max_lenght, num_classes, model_type):\n",
        "    # Define the directory path to save the tensors\n",
        "    out_save_dir = 'outputTensor/'\n",
        "\n",
        "    # Save encoded inputs and labels to disk\n",
        "    torch.save(all_pred_labels, os.path.join(out_save_dir, 'pred_labels_'+str(max_lenght)+\"_\"+str(num_classes)+\"_\"+str(model_type)+'.pt'))\n",
        "    torch.save(all_true_labels, os.path.join(out_save_dir, 'true_labels_'+str(max_lenght)+\"_\"+str(num_classes)+\"_\"+str(model_type)+'.pt'))\n",
        "    torch.save(all_ids, os.path.join(out_save_dir, 'all_ids_'+str(max_lenght)+\"_\"+str(num_classes)+\"_\"+str(model_type)+'.pt'))\n",
        "    torch.save(total_loss, os.path.join(out_save_dir, 'total_losses_'+str(max_lenght)+\"_\"+str(num_classes)+\"_\"+str(model_type)+'.pt'))\n",
        "\n"
      ]
    },
    {
      "cell_type": "code",
      "execution_count": 42,
      "metadata": {
        "id": "wCIbwqs18Phm"
      },
      "outputs": [],
      "source": [
        "\n",
        "# Define functions to filter dataset by text IDs\n",
        "def filter_dataset_by_text_ids(dataset, text_ids):\n",
        "    indices = [i for i, text_id in enumerate(dataset.tensors[1]) if text_id in text_ids]\n",
        "    return torch.utils.data.Subset(dataset, indices)\n",
        "\n",
        "def get_batches(text_ids_loaded, encoded_inputs_loaded, labels_loaded, encoded_attention_mask_loaded, BATCH_SIZE):\n",
        "\n",
        "  # Combine all tensors into a single TensorDataset\n",
        "  text_ids_loaded_converted = text_ids_loaded.long()\n",
        "  dataset = TensorDataset(encoded_inputs_loaded, text_ids_loaded_converted, labels_loaded, encoded_attention_mask_loaded)\n",
        "\n",
        "  unique_text_ids = torch.unique(text_ids_loaded_converted)\n",
        "\n",
        "  # Split text IDs into train, validation, and test sets based on the specified proportions\n",
        "  train_text_ids, remaining_text_ids = train_test_split(unique_text_ids, train_size=0.7, test_size=0.3, random_state=42)\n",
        "  val_text_ids, test_text_ids = train_test_split(remaining_text_ids, train_size=0.5, test_size=0.5, random_state=42)\n",
        "\n",
        "\n",
        "  # Create filtered datasets for train, validation, and test sets\n",
        "  train_dataset = filter_dataset_by_text_ids(dataset, train_text_ids)\n",
        "  val_dataset = filter_dataset_by_text_ids(dataset, val_text_ids)\n",
        "  test_dataset = filter_dataset_by_text_ids(dataset, test_text_ids)\n",
        "\n",
        "  # Create Batches for train, validation, and test sets\n",
        "  train_batches = create_batches(train_dataset, batch_size=BATCH_SIZE)\n",
        "  val_batches = create_batches(val_dataset, batch_size=BATCH_SIZE)\n",
        "  test_batches = create_batches(test_dataset, batch_size=BATCH_SIZE)\n",
        "\n",
        "  return train_batches, val_batches, test_batches\n",
        "\n",
        "  # Create Batches for train, validation, and test sets\n",
        "  #train_loader = DataLoader(train_dataset, batch_size=BATCH_SIZE, shuffle=False)\n",
        "  #val_loader = DataLoader(val_dataset, batch_size=BATCH_SIZE, shuffle=False)\n",
        "  #test_loader = DataLoader(test_dataset, batch_size=BATCH_SIZE, shuffle=False)"
      ]
    },
    {
      "cell_type": "code",
      "execution_count": 43,
      "metadata": {
        "id": "ucFGerQX0S1A"
      },
      "outputs": [],
      "source": [
        "def run_model_testing(model, test_batches, criterion, device):\n",
        "\n",
        "  model.eval()\n",
        "  pred_labels = []\n",
        "  true_labels = []\n",
        "  all_ids = []\n",
        "  total_loss = 0.0\n",
        "\n",
        "  with torch.no_grad():\n",
        "\n",
        "    for batch in test_batches:\n",
        "\n",
        "        inputs = torch.stack(batch[0], dim=0).long().to(device)\n",
        "        ids = torch.stack(batch[1], dim=0).long().to(device)\n",
        "        labels_float = torch.stack(batch[2], dim=0).float().to(device)\n",
        "        labels_long = torch.stack(batch[2], dim=0).long().to(device)\n",
        "        mask = torch.stack(batch[3], dim=0).long().to(device)\n",
        "\n",
        "\n",
        "        #logits = model(input_ids=inputs, attention_mask=mask)\n",
        "\n",
        "        outputs = model(input_ids=inputs, attention_mask=mask)\n",
        "\n",
        "        logits = outputs[0]\n",
        "\n",
        "        loss = criterion(logits, labels_long)\n",
        "        #loss = hinge_loss(logits, labels_long)\n",
        "\n",
        "        probs = torch.nn.functional.softmax(logits, dim=-1)\n",
        "\n",
        "        #aggreg_probs, aggreg_labels = get_aggregated_probabilities(probs, ids, labels_float)\n",
        "        #sentiment_labels = model.determine_sentiment(aggreg_probs)\n",
        "\n",
        "        #preds, aggreg_labels = get_aggregated_predictions_and_true_labels(probs.clone().detach(), ids, labels_float)\n",
        "\n",
        "        preds = torch.argmax(probs, dim=1)\n",
        "\n",
        "        pred_labels.extend(torch.split(preds, 1))\n",
        "        true_labels.extend(torch.split(labels_float, 1))\n",
        "        all_ids.extend(torch.split(ids,1))\n",
        "        total_loss += loss.item()\n",
        "\n",
        "        torch.cuda.empty_cache()\n",
        "        gc.collect()\n",
        "\n",
        "\n",
        "  return pred_labels, true_labels, all_ids, torch.tensor([total_loss/len(test_batches)])#, allocated_memory_used, reserved_memory_used"
      ]
    },
    {
      "cell_type": "code",
      "execution_count": 44,
      "metadata": {
        "id": "H8_-ynd7tdgM"
      },
      "outputs": [],
      "source": [
        "def train_model(num_epochs, model, criterion, train_batches, val_batches, lr_scheduler_step_size, lr_scheduler_gamma, learning_rate, device):\n",
        "  best_accuracy = 0.0\n",
        "  #optimizer = optim.AdamW(model.parameters(), lr=learning_rate)\n",
        "  optimizer = optim.RMSprop(model.parameters(), lr=learning_rate)\n",
        "  #scheduler = optim.lr_scheduler.StepLR(optimizer, step_size=lr_scheduler_step_size, gamma=lr_scheduler_gamma)\n",
        "  training_data = []\n",
        "\n",
        "  for epoch in range(num_epochs):\n",
        "      if epoch == 7:\n",
        "          criterion = nn.CrossEntropyLoss().to(device)\n",
        "      model.train()\n",
        "      total_loss = 0.0\n",
        "\n",
        "      for batch in train_batches:\n",
        "          inputs = torch.stack(batch[0], dim=0).long().to(device)\n",
        "          #ids = torch.stack(batch[1], dim=0).long().to(device)\n",
        "          labels_long = torch.stack(batch[2], dim=0).long().to(device)\n",
        "          mask = torch.stack(batch[3], dim=0).long().to(device)\n",
        "\n",
        "          optimizer.zero_grad()\n",
        "          outputs = model(input_ids=inputs, attention_mask=mask)\n",
        "          logits = outputs[0]\n",
        "\n",
        "          loss = criterion(logits, labels_long)\n",
        "          #loss = hinge_loss(logits, labels_long)\n",
        "          loss.backward()\n",
        "\n",
        "          total_loss += loss.item()\n",
        "\n",
        "          optimizer.step()\n",
        "\n",
        "          torch.cuda.empty_cache()\n",
        "          #break\n",
        "\n",
        "      # Evaluate the model on validation dataset\n",
        "      val_pred_labels, val_true_labels, val_ids, val_loss = run_model_testing(model, val_batches, criterion, device)\n",
        "      val_pred_labels_list = [torch.round(label).item() for label in val_pred_labels]\n",
        "      val_true_labels_list = [torch.round(label).item() for label in val_true_labels]\n",
        "\n",
        "      val_accuracy = accuracy_score(val_true_labels_list, val_pred_labels_list)\n",
        "\n",
        "      if best_accuracy < val_accuracy:\n",
        "        best_accuracy = val_accuracy\n",
        "        # Save the best fine-tuned model\n",
        "        torch.save(model.state_dict(), \"finbert_best_fine_tuned.pth\")\n",
        "\n",
        "\n",
        "      average_loss = total_loss / len(train_batches)\n",
        "\n",
        "      print(f\"Epoch {epoch+1}/{num_epochs}, Loss: {average_loss}, Val Loss: {val_loss.item()}, Val Acc: {val_accuracy}\")\n",
        "      training_data.append(f\"Epoch {epoch+1}/{num_epochs}, Loss: {average_loss}, Val Loss: {val_loss.item()}, Val Acc: {val_accuracy}\")\n",
        "      # Save the fine-tuned model\n",
        "      torch.save(model.state_dict(), \"finbert_fine_tuned.pth\")\n",
        "\n",
        "      # Update learning rate\n",
        "      #scheduler.step()\n",
        "  return model, training_data"
      ]
    },
    {
      "cell_type": "code",
      "execution_count": 45,
      "metadata": {
        "id": "1OPGNns22hsS"
      },
      "outputs": [],
      "source": [
        "\n",
        "class ThresholdedModel(nn.Module):\n",
        "    def __init__(self, model, thresholds_init=[0.21, 0.22, 0.23, 0.24]):\n",
        "        super(ThresholdedModel, self).__init__()\n",
        "        self.model = model\n",
        "        self.num_thresholds = len(thresholds_init) if thresholds_init else 0\n",
        "        if thresholds_init:\n",
        "            self.thresholds = nn.Parameter(torch.tensor(thresholds_init, dtype=torch.float32))\n",
        "        else:\n",
        "            self.thresholds = nn.Parameter(torch.zeros(self.num_thresholds))\n",
        "\n",
        "    def forward(self, input_ids=None, attention_mask=None):\n",
        "        logits = self.model(input_ids=input_ids, attention_mask=attention_mask)[0]\n",
        "        return logits\n",
        "\n",
        "    def determine_sentiment(self, logits):\n",
        "        positive_prob = logits[:, 3]  # Probability for positive label\n",
        "        thresholds = torch.sigmoid(self.thresholds)  # Apply sigmoid to ensure thresholds are between 0 and 1\n",
        "        sentiment_labels = torch.where(positive_prob < thresholds[0], torch.tensor(0),\n",
        "                                        torch.where(positive_prob < thresholds[1], torch.tensor(1),\n",
        "                                                    torch.where(positive_prob < thresholds[2], torch.tensor(2),\n",
        "                                                                torch.tensor(3))))\n",
        "        return sentiment_labels"
      ]
    },
    {
      "cell_type": "markdown",
      "metadata": {
        "id": "K9n0GWdR0Zq0"
      },
      "source": [
        "## Validation/Fine Tuning"
      ]
    },
    {
      "cell_type": "markdown",
      "metadata": {
        "id": "hrL03Hi75igJ"
      },
      "source": [
        "### Params"
      ]
    },
    {
      "cell_type": "code",
      "execution_count": 46,
      "metadata": {
        "id": "g4QKCiG15glM"
      },
      "outputs": [],
      "source": [
        "BATCH_SIZE = 8 # keep it low cause it represent input data, not chunks\n",
        "lr_scheduler_step_size = 2\n",
        "lr_scheduler_gamma = 1.5\n",
        "num_epochs = 10\n",
        "learning_rate = 0.00001\n",
        "\n",
        "\n",
        "# Don't change unless running on other version of dataset\n",
        "num_classes = 3 #3or 5\n",
        "max_lenght = 128 # or 256 or 512\n",
        "model_type = \"fine_tuned\""
      ]
    },
    {
      "cell_type": "markdown",
      "metadata": {
        "id": "mjekDIQ8s-A2"
      },
      "source": [
        "### Run Model"
      ]
    },
    {
      "cell_type": "code",
      "execution_count": 47,
      "metadata": {
        "id": "T_jXkHct_skN",
        "colab": {
          "base_uri": "https://localhost:8080/"
        },
        "outputId": "f1b785c4-843a-4e33-d4b3-ae846bbe3060"
      },
      "outputs": [
        {
          "output_type": "stream",
          "name": "stderr",
          "text": [
            "Some weights of BertForSequenceClassification were not initialized from the model checkpoint at yiyanghkust/finbert-pretrain and are newly initialized: ['classifier.bias', 'classifier.weight']\n",
            "You should probably TRAIN this model on a down-stream task to be able to use it for predictions and inference.\n"
          ]
        }
      ],
      "source": [
        "# Load pre-trained FinBERT model\n",
        "device = torch.device(\"cuda\" if torch.cuda.is_available() else \"cpu\")\n",
        "\n",
        "model, criterion = get_model(num_classes, device, model_name)\n",
        "# Load input tensors\n",
        "encoded_inputs_loaded, labels_loaded, encoded_attention_mask_loaded, text_ids_loaded = load_input_tensors(max_lenght, num_classes)\n",
        "# Get batches\n",
        "train_batches, val_batches, test_batches = get_batches(text_ids_loaded, encoded_inputs_loaded, labels_loaded, encoded_attention_mask_loaded, BATCH_SIZE)"
      ]
    },
    {
      "cell_type": "code",
      "execution_count": 48,
      "metadata": {
        "colab": {
          "base_uri": "https://localhost:8080/",
          "height": 418
        },
        "id": "e1qVvv9xzppl",
        "outputId": "9613918f-1bd1-423d-b6d8-fe68f2e51948"
      },
      "outputs": [
        {
          "output_type": "error",
          "ename": "OutOfMemoryError",
          "evalue": "CUDA out of memory. Tried to allocate 414.00 MiB. GPU 0 has a total capacity of 22.17 GiB of which 116.88 MiB is free. Process 11954 has 22.05 GiB memory in use. Of the allocated memory 21.65 GiB is allocated by PyTorch, and 176.51 MiB is reserved by PyTorch but unallocated. If reserved but unallocated memory is large try setting PYTORCH_CUDA_ALLOC_CONF=expandable_segments:True to avoid fragmentation.  See documentation for Memory Management  (https://pytorch.org/docs/stable/notes/cuda.html#environment-variables)",
          "traceback": [
            "\u001b[0;31m---------------------------------------------------------------------------\u001b[0m",
            "\u001b[0;31mOutOfMemoryError\u001b[0m                          Traceback (most recent call last)",
            "\u001b[0;32m<ipython-input-48-d4e4f384cdb1>\u001b[0m in \u001b[0;36m<cell line: 2>\u001b[0;34m()\u001b[0m\n\u001b[1;32m      1\u001b[0m \u001b[0;31m# Fine Tune Model\u001b[0m\u001b[0;34m\u001b[0m\u001b[0;34m\u001b[0m\u001b[0m\n\u001b[0;32m----> 2\u001b[0;31m \u001b[0m_\u001b[0m\u001b[0;34m,\u001b[0m \u001b[0mtraining_data\u001b[0m \u001b[0;34m=\u001b[0m \u001b[0mtrain_model\u001b[0m\u001b[0;34m(\u001b[0m\u001b[0mnum_epochs\u001b[0m\u001b[0;34m,\u001b[0m \u001b[0mmodel\u001b[0m\u001b[0;34m,\u001b[0m \u001b[0mcriterion\u001b[0m\u001b[0;34m,\u001b[0m \u001b[0mtrain_batches\u001b[0m\u001b[0;34m,\u001b[0m \u001b[0mval_batches\u001b[0m\u001b[0;34m,\u001b[0m \u001b[0mlr_scheduler_step_size\u001b[0m\u001b[0;34m,\u001b[0m \u001b[0mlr_scheduler_gamma\u001b[0m\u001b[0;34m,\u001b[0m \u001b[0mlearning_rate\u001b[0m\u001b[0;34m,\u001b[0m \u001b[0mdevice\u001b[0m\u001b[0;34m)\u001b[0m\u001b[0;34m\u001b[0m\u001b[0;34m\u001b[0m\u001b[0m\n\u001b[0m\u001b[1;32m      3\u001b[0m \u001b[0;34m\u001b[0m\u001b[0m\n",
            "\u001b[0;32m<ipython-input-44-1af6dc542dd5>\u001b[0m in \u001b[0;36mtrain_model\u001b[0;34m(num_epochs, model, criterion, train_batches, val_batches, lr_scheduler_step_size, lr_scheduler_gamma, learning_rate, device)\u001b[0m\n\u001b[1;32m     19\u001b[0m \u001b[0;34m\u001b[0m\u001b[0m\n\u001b[1;32m     20\u001b[0m           \u001b[0moptimizer\u001b[0m\u001b[0;34m.\u001b[0m\u001b[0mzero_grad\u001b[0m\u001b[0;34m(\u001b[0m\u001b[0;34m)\u001b[0m\u001b[0;34m\u001b[0m\u001b[0;34m\u001b[0m\u001b[0m\n\u001b[0;32m---> 21\u001b[0;31m           \u001b[0moutputs\u001b[0m \u001b[0;34m=\u001b[0m \u001b[0mmodel\u001b[0m\u001b[0;34m(\u001b[0m\u001b[0minput_ids\u001b[0m\u001b[0;34m=\u001b[0m\u001b[0minputs\u001b[0m\u001b[0;34m,\u001b[0m \u001b[0mattention_mask\u001b[0m\u001b[0;34m=\u001b[0m\u001b[0mmask\u001b[0m\u001b[0;34m)\u001b[0m\u001b[0;34m\u001b[0m\u001b[0;34m\u001b[0m\u001b[0m\n\u001b[0m\u001b[1;32m     22\u001b[0m           \u001b[0mlogits\u001b[0m \u001b[0;34m=\u001b[0m \u001b[0moutputs\u001b[0m\u001b[0;34m[\u001b[0m\u001b[0;36m0\u001b[0m\u001b[0;34m]\u001b[0m\u001b[0;34m\u001b[0m\u001b[0;34m\u001b[0m\u001b[0m\n\u001b[1;32m     23\u001b[0m \u001b[0;34m\u001b[0m\u001b[0m\n",
            "\u001b[0;32m/usr/local/lib/python3.10/dist-packages/torch/nn/modules/module.py\u001b[0m in \u001b[0;36m_wrapped_call_impl\u001b[0;34m(self, *args, **kwargs)\u001b[0m\n\u001b[1;32m   1509\u001b[0m             \u001b[0;32mreturn\u001b[0m \u001b[0mself\u001b[0m\u001b[0;34m.\u001b[0m\u001b[0m_compiled_call_impl\u001b[0m\u001b[0;34m(\u001b[0m\u001b[0;34m*\u001b[0m\u001b[0margs\u001b[0m\u001b[0;34m,\u001b[0m \u001b[0;34m**\u001b[0m\u001b[0mkwargs\u001b[0m\u001b[0;34m)\u001b[0m  \u001b[0;31m# type: ignore[misc]\u001b[0m\u001b[0;34m\u001b[0m\u001b[0;34m\u001b[0m\u001b[0m\n\u001b[1;32m   1510\u001b[0m         \u001b[0;32melse\u001b[0m\u001b[0;34m:\u001b[0m\u001b[0;34m\u001b[0m\u001b[0;34m\u001b[0m\u001b[0m\n\u001b[0;32m-> 1511\u001b[0;31m             \u001b[0;32mreturn\u001b[0m \u001b[0mself\u001b[0m\u001b[0;34m.\u001b[0m\u001b[0m_call_impl\u001b[0m\u001b[0;34m(\u001b[0m\u001b[0;34m*\u001b[0m\u001b[0margs\u001b[0m\u001b[0;34m,\u001b[0m \u001b[0;34m**\u001b[0m\u001b[0mkwargs\u001b[0m\u001b[0;34m)\u001b[0m\u001b[0;34m\u001b[0m\u001b[0;34m\u001b[0m\u001b[0m\n\u001b[0m\u001b[1;32m   1512\u001b[0m \u001b[0;34m\u001b[0m\u001b[0m\n\u001b[1;32m   1513\u001b[0m     \u001b[0;32mdef\u001b[0m \u001b[0m_call_impl\u001b[0m\u001b[0;34m(\u001b[0m\u001b[0mself\u001b[0m\u001b[0;34m,\u001b[0m \u001b[0;34m*\u001b[0m\u001b[0margs\u001b[0m\u001b[0;34m,\u001b[0m \u001b[0;34m**\u001b[0m\u001b[0mkwargs\u001b[0m\u001b[0;34m)\u001b[0m\u001b[0;34m:\u001b[0m\u001b[0;34m\u001b[0m\u001b[0;34m\u001b[0m\u001b[0m\n",
            "\u001b[0;32m/usr/local/lib/python3.10/dist-packages/torch/nn/modules/module.py\u001b[0m in \u001b[0;36m_call_impl\u001b[0;34m(self, *args, **kwargs)\u001b[0m\n\u001b[1;32m   1518\u001b[0m                 \u001b[0;32mor\u001b[0m \u001b[0m_global_backward_pre_hooks\u001b[0m \u001b[0;32mor\u001b[0m \u001b[0m_global_backward_hooks\u001b[0m\u001b[0;34m\u001b[0m\u001b[0;34m\u001b[0m\u001b[0m\n\u001b[1;32m   1519\u001b[0m                 or _global_forward_hooks or _global_forward_pre_hooks):\n\u001b[0;32m-> 1520\u001b[0;31m             \u001b[0;32mreturn\u001b[0m \u001b[0mforward_call\u001b[0m\u001b[0;34m(\u001b[0m\u001b[0;34m*\u001b[0m\u001b[0margs\u001b[0m\u001b[0;34m,\u001b[0m \u001b[0;34m**\u001b[0m\u001b[0mkwargs\u001b[0m\u001b[0;34m)\u001b[0m\u001b[0;34m\u001b[0m\u001b[0;34m\u001b[0m\u001b[0m\n\u001b[0m\u001b[1;32m   1521\u001b[0m \u001b[0;34m\u001b[0m\u001b[0m\n\u001b[1;32m   1522\u001b[0m         \u001b[0;32mtry\u001b[0m\u001b[0;34m:\u001b[0m\u001b[0;34m\u001b[0m\u001b[0;34m\u001b[0m\u001b[0m\n",
            "\u001b[0;32m/usr/local/lib/python3.10/dist-packages/transformers/models/bert/modeling_bert.py\u001b[0m in \u001b[0;36mforward\u001b[0;34m(self, input_ids, attention_mask, token_type_ids, position_ids, head_mask, inputs_embeds, labels, output_attentions, output_hidden_states, return_dict)\u001b[0m\n\u001b[1;32m   1537\u001b[0m         \u001b[0mreturn_dict\u001b[0m \u001b[0;34m=\u001b[0m \u001b[0mreturn_dict\u001b[0m \u001b[0;32mif\u001b[0m \u001b[0mreturn_dict\u001b[0m \u001b[0;32mis\u001b[0m \u001b[0;32mnot\u001b[0m \u001b[0;32mNone\u001b[0m \u001b[0;32melse\u001b[0m \u001b[0mself\u001b[0m\u001b[0;34m.\u001b[0m\u001b[0mconfig\u001b[0m\u001b[0;34m.\u001b[0m\u001b[0muse_return_dict\u001b[0m\u001b[0;34m\u001b[0m\u001b[0;34m\u001b[0m\u001b[0m\n\u001b[1;32m   1538\u001b[0m \u001b[0;34m\u001b[0m\u001b[0m\n\u001b[0;32m-> 1539\u001b[0;31m         outputs = self.bert(\n\u001b[0m\u001b[1;32m   1540\u001b[0m             \u001b[0minput_ids\u001b[0m\u001b[0;34m,\u001b[0m\u001b[0;34m\u001b[0m\u001b[0;34m\u001b[0m\u001b[0m\n\u001b[1;32m   1541\u001b[0m             \u001b[0mattention_mask\u001b[0m\u001b[0;34m=\u001b[0m\u001b[0mattention_mask\u001b[0m\u001b[0;34m,\u001b[0m\u001b[0;34m\u001b[0m\u001b[0;34m\u001b[0m\u001b[0m\n",
            "\u001b[0;32m/usr/local/lib/python3.10/dist-packages/torch/nn/modules/module.py\u001b[0m in \u001b[0;36m_wrapped_call_impl\u001b[0;34m(self, *args, **kwargs)\u001b[0m\n\u001b[1;32m   1509\u001b[0m             \u001b[0;32mreturn\u001b[0m \u001b[0mself\u001b[0m\u001b[0;34m.\u001b[0m\u001b[0m_compiled_call_impl\u001b[0m\u001b[0;34m(\u001b[0m\u001b[0;34m*\u001b[0m\u001b[0margs\u001b[0m\u001b[0;34m,\u001b[0m \u001b[0;34m**\u001b[0m\u001b[0mkwargs\u001b[0m\u001b[0;34m)\u001b[0m  \u001b[0;31m# type: ignore[misc]\u001b[0m\u001b[0;34m\u001b[0m\u001b[0;34m\u001b[0m\u001b[0m\n\u001b[1;32m   1510\u001b[0m         \u001b[0;32melse\u001b[0m\u001b[0;34m:\u001b[0m\u001b[0;34m\u001b[0m\u001b[0;34m\u001b[0m\u001b[0m\n\u001b[0;32m-> 1511\u001b[0;31m             \u001b[0;32mreturn\u001b[0m \u001b[0mself\u001b[0m\u001b[0;34m.\u001b[0m\u001b[0m_call_impl\u001b[0m\u001b[0;34m(\u001b[0m\u001b[0;34m*\u001b[0m\u001b[0margs\u001b[0m\u001b[0;34m,\u001b[0m \u001b[0;34m**\u001b[0m\u001b[0mkwargs\u001b[0m\u001b[0;34m)\u001b[0m\u001b[0;34m\u001b[0m\u001b[0;34m\u001b[0m\u001b[0m\n\u001b[0m\u001b[1;32m   1512\u001b[0m \u001b[0;34m\u001b[0m\u001b[0m\n\u001b[1;32m   1513\u001b[0m     \u001b[0;32mdef\u001b[0m \u001b[0m_call_impl\u001b[0m\u001b[0;34m(\u001b[0m\u001b[0mself\u001b[0m\u001b[0;34m,\u001b[0m \u001b[0;34m*\u001b[0m\u001b[0margs\u001b[0m\u001b[0;34m,\u001b[0m \u001b[0;34m**\u001b[0m\u001b[0mkwargs\u001b[0m\u001b[0;34m)\u001b[0m\u001b[0;34m:\u001b[0m\u001b[0;34m\u001b[0m\u001b[0;34m\u001b[0m\u001b[0m\n",
            "\u001b[0;32m/usr/local/lib/python3.10/dist-packages/torch/nn/modules/module.py\u001b[0m in \u001b[0;36m_call_impl\u001b[0;34m(self, *args, **kwargs)\u001b[0m\n\u001b[1;32m   1518\u001b[0m                 \u001b[0;32mor\u001b[0m \u001b[0m_global_backward_pre_hooks\u001b[0m \u001b[0;32mor\u001b[0m \u001b[0m_global_backward_hooks\u001b[0m\u001b[0;34m\u001b[0m\u001b[0;34m\u001b[0m\u001b[0m\n\u001b[1;32m   1519\u001b[0m                 or _global_forward_hooks or _global_forward_pre_hooks):\n\u001b[0;32m-> 1520\u001b[0;31m             \u001b[0;32mreturn\u001b[0m \u001b[0mforward_call\u001b[0m\u001b[0;34m(\u001b[0m\u001b[0;34m*\u001b[0m\u001b[0margs\u001b[0m\u001b[0;34m,\u001b[0m \u001b[0;34m**\u001b[0m\u001b[0mkwargs\u001b[0m\u001b[0;34m)\u001b[0m\u001b[0;34m\u001b[0m\u001b[0;34m\u001b[0m\u001b[0m\n\u001b[0m\u001b[1;32m   1521\u001b[0m \u001b[0;34m\u001b[0m\u001b[0m\n\u001b[1;32m   1522\u001b[0m         \u001b[0;32mtry\u001b[0m\u001b[0;34m:\u001b[0m\u001b[0;34m\u001b[0m\u001b[0;34m\u001b[0m\u001b[0m\n",
            "\u001b[0;32m/usr/local/lib/python3.10/dist-packages/transformers/models/bert/modeling_bert.py\u001b[0m in \u001b[0;36mforward\u001b[0;34m(self, input_ids, attention_mask, token_type_ids, position_ids, head_mask, inputs_embeds, encoder_hidden_states, encoder_attention_mask, past_key_values, use_cache, output_attentions, output_hidden_states, return_dict)\u001b[0m\n\u001b[1;32m    986\u001b[0m             \u001b[0mpast_key_values_length\u001b[0m\u001b[0;34m=\u001b[0m\u001b[0mpast_key_values_length\u001b[0m\u001b[0;34m,\u001b[0m\u001b[0;34m\u001b[0m\u001b[0;34m\u001b[0m\u001b[0m\n\u001b[1;32m    987\u001b[0m         )\n\u001b[0;32m--> 988\u001b[0;31m         encoder_outputs = self.encoder(\n\u001b[0m\u001b[1;32m    989\u001b[0m             \u001b[0membedding_output\u001b[0m\u001b[0;34m,\u001b[0m\u001b[0;34m\u001b[0m\u001b[0;34m\u001b[0m\u001b[0m\n\u001b[1;32m    990\u001b[0m             \u001b[0mattention_mask\u001b[0m\u001b[0;34m=\u001b[0m\u001b[0mextended_attention_mask\u001b[0m\u001b[0;34m,\u001b[0m\u001b[0;34m\u001b[0m\u001b[0;34m\u001b[0m\u001b[0m\n",
            "\u001b[0;32m/usr/local/lib/python3.10/dist-packages/torch/nn/modules/module.py\u001b[0m in \u001b[0;36m_wrapped_call_impl\u001b[0;34m(self, *args, **kwargs)\u001b[0m\n\u001b[1;32m   1509\u001b[0m             \u001b[0;32mreturn\u001b[0m \u001b[0mself\u001b[0m\u001b[0;34m.\u001b[0m\u001b[0m_compiled_call_impl\u001b[0m\u001b[0;34m(\u001b[0m\u001b[0;34m*\u001b[0m\u001b[0margs\u001b[0m\u001b[0;34m,\u001b[0m \u001b[0;34m**\u001b[0m\u001b[0mkwargs\u001b[0m\u001b[0;34m)\u001b[0m  \u001b[0;31m# type: ignore[misc]\u001b[0m\u001b[0;34m\u001b[0m\u001b[0;34m\u001b[0m\u001b[0m\n\u001b[1;32m   1510\u001b[0m         \u001b[0;32melse\u001b[0m\u001b[0;34m:\u001b[0m\u001b[0;34m\u001b[0m\u001b[0;34m\u001b[0m\u001b[0m\n\u001b[0;32m-> 1511\u001b[0;31m             \u001b[0;32mreturn\u001b[0m \u001b[0mself\u001b[0m\u001b[0;34m.\u001b[0m\u001b[0m_call_impl\u001b[0m\u001b[0;34m(\u001b[0m\u001b[0;34m*\u001b[0m\u001b[0margs\u001b[0m\u001b[0;34m,\u001b[0m \u001b[0;34m**\u001b[0m\u001b[0mkwargs\u001b[0m\u001b[0;34m)\u001b[0m\u001b[0;34m\u001b[0m\u001b[0;34m\u001b[0m\u001b[0m\n\u001b[0m\u001b[1;32m   1512\u001b[0m \u001b[0;34m\u001b[0m\u001b[0m\n\u001b[1;32m   1513\u001b[0m     \u001b[0;32mdef\u001b[0m \u001b[0m_call_impl\u001b[0m\u001b[0;34m(\u001b[0m\u001b[0mself\u001b[0m\u001b[0;34m,\u001b[0m \u001b[0;34m*\u001b[0m\u001b[0margs\u001b[0m\u001b[0;34m,\u001b[0m \u001b[0;34m**\u001b[0m\u001b[0mkwargs\u001b[0m\u001b[0;34m)\u001b[0m\u001b[0;34m:\u001b[0m\u001b[0;34m\u001b[0m\u001b[0;34m\u001b[0m\u001b[0m\n",
            "\u001b[0;32m/usr/local/lib/python3.10/dist-packages/torch/nn/modules/module.py\u001b[0m in \u001b[0;36m_call_impl\u001b[0;34m(self, *args, **kwargs)\u001b[0m\n\u001b[1;32m   1518\u001b[0m                 \u001b[0;32mor\u001b[0m \u001b[0m_global_backward_pre_hooks\u001b[0m \u001b[0;32mor\u001b[0m \u001b[0m_global_backward_hooks\u001b[0m\u001b[0;34m\u001b[0m\u001b[0;34m\u001b[0m\u001b[0m\n\u001b[1;32m   1519\u001b[0m                 or _global_forward_hooks or _global_forward_pre_hooks):\n\u001b[0;32m-> 1520\u001b[0;31m             \u001b[0;32mreturn\u001b[0m \u001b[0mforward_call\u001b[0m\u001b[0;34m(\u001b[0m\u001b[0;34m*\u001b[0m\u001b[0margs\u001b[0m\u001b[0;34m,\u001b[0m \u001b[0;34m**\u001b[0m\u001b[0mkwargs\u001b[0m\u001b[0;34m)\u001b[0m\u001b[0;34m\u001b[0m\u001b[0;34m\u001b[0m\u001b[0m\n\u001b[0m\u001b[1;32m   1521\u001b[0m \u001b[0;34m\u001b[0m\u001b[0m\n\u001b[1;32m   1522\u001b[0m         \u001b[0;32mtry\u001b[0m\u001b[0;34m:\u001b[0m\u001b[0;34m\u001b[0m\u001b[0;34m\u001b[0m\u001b[0m\n",
            "\u001b[0;32m/usr/local/lib/python3.10/dist-packages/transformers/models/bert/modeling_bert.py\u001b[0m in \u001b[0;36mforward\u001b[0;34m(self, hidden_states, attention_mask, head_mask, encoder_hidden_states, encoder_attention_mask, past_key_values, use_cache, output_attentions, output_hidden_states, return_dict)\u001b[0m\n\u001b[1;32m    580\u001b[0m                 )\n\u001b[1;32m    581\u001b[0m             \u001b[0;32melse\u001b[0m\u001b[0;34m:\u001b[0m\u001b[0;34m\u001b[0m\u001b[0;34m\u001b[0m\u001b[0m\n\u001b[0;32m--> 582\u001b[0;31m                 layer_outputs = layer_module(\n\u001b[0m\u001b[1;32m    583\u001b[0m                     \u001b[0mhidden_states\u001b[0m\u001b[0;34m,\u001b[0m\u001b[0;34m\u001b[0m\u001b[0;34m\u001b[0m\u001b[0m\n\u001b[1;32m    584\u001b[0m                     \u001b[0mattention_mask\u001b[0m\u001b[0;34m,\u001b[0m\u001b[0;34m\u001b[0m\u001b[0;34m\u001b[0m\u001b[0m\n",
            "\u001b[0;32m/usr/local/lib/python3.10/dist-packages/torch/nn/modules/module.py\u001b[0m in \u001b[0;36m_wrapped_call_impl\u001b[0;34m(self, *args, **kwargs)\u001b[0m\n\u001b[1;32m   1509\u001b[0m             \u001b[0;32mreturn\u001b[0m \u001b[0mself\u001b[0m\u001b[0;34m.\u001b[0m\u001b[0m_compiled_call_impl\u001b[0m\u001b[0;34m(\u001b[0m\u001b[0;34m*\u001b[0m\u001b[0margs\u001b[0m\u001b[0;34m,\u001b[0m \u001b[0;34m**\u001b[0m\u001b[0mkwargs\u001b[0m\u001b[0;34m)\u001b[0m  \u001b[0;31m# type: ignore[misc]\u001b[0m\u001b[0;34m\u001b[0m\u001b[0;34m\u001b[0m\u001b[0m\n\u001b[1;32m   1510\u001b[0m         \u001b[0;32melse\u001b[0m\u001b[0;34m:\u001b[0m\u001b[0;34m\u001b[0m\u001b[0;34m\u001b[0m\u001b[0m\n\u001b[0;32m-> 1511\u001b[0;31m             \u001b[0;32mreturn\u001b[0m \u001b[0mself\u001b[0m\u001b[0;34m.\u001b[0m\u001b[0m_call_impl\u001b[0m\u001b[0;34m(\u001b[0m\u001b[0;34m*\u001b[0m\u001b[0margs\u001b[0m\u001b[0;34m,\u001b[0m \u001b[0;34m**\u001b[0m\u001b[0mkwargs\u001b[0m\u001b[0;34m)\u001b[0m\u001b[0;34m\u001b[0m\u001b[0;34m\u001b[0m\u001b[0m\n\u001b[0m\u001b[1;32m   1512\u001b[0m \u001b[0;34m\u001b[0m\u001b[0m\n\u001b[1;32m   1513\u001b[0m     \u001b[0;32mdef\u001b[0m \u001b[0m_call_impl\u001b[0m\u001b[0;34m(\u001b[0m\u001b[0mself\u001b[0m\u001b[0;34m,\u001b[0m \u001b[0;34m*\u001b[0m\u001b[0margs\u001b[0m\u001b[0;34m,\u001b[0m \u001b[0;34m**\u001b[0m\u001b[0mkwargs\u001b[0m\u001b[0;34m)\u001b[0m\u001b[0;34m:\u001b[0m\u001b[0;34m\u001b[0m\u001b[0;34m\u001b[0m\u001b[0m\n",
            "\u001b[0;32m/usr/local/lib/python3.10/dist-packages/torch/nn/modules/module.py\u001b[0m in \u001b[0;36m_call_impl\u001b[0;34m(self, *args, **kwargs)\u001b[0m\n\u001b[1;32m   1518\u001b[0m                 \u001b[0;32mor\u001b[0m \u001b[0m_global_backward_pre_hooks\u001b[0m \u001b[0;32mor\u001b[0m \u001b[0m_global_backward_hooks\u001b[0m\u001b[0;34m\u001b[0m\u001b[0;34m\u001b[0m\u001b[0m\n\u001b[1;32m   1519\u001b[0m                 or _global_forward_hooks or _global_forward_pre_hooks):\n\u001b[0;32m-> 1520\u001b[0;31m             \u001b[0;32mreturn\u001b[0m \u001b[0mforward_call\u001b[0m\u001b[0;34m(\u001b[0m\u001b[0;34m*\u001b[0m\u001b[0margs\u001b[0m\u001b[0;34m,\u001b[0m \u001b[0;34m**\u001b[0m\u001b[0mkwargs\u001b[0m\u001b[0;34m)\u001b[0m\u001b[0;34m\u001b[0m\u001b[0;34m\u001b[0m\u001b[0m\n\u001b[0m\u001b[1;32m   1521\u001b[0m \u001b[0;34m\u001b[0m\u001b[0m\n\u001b[1;32m   1522\u001b[0m         \u001b[0;32mtry\u001b[0m\u001b[0;34m:\u001b[0m\u001b[0;34m\u001b[0m\u001b[0;34m\u001b[0m\u001b[0m\n",
            "\u001b[0;32m/usr/local/lib/python3.10/dist-packages/transformers/models/bert/modeling_bert.py\u001b[0m in \u001b[0;36mforward\u001b[0;34m(self, hidden_states, attention_mask, head_mask, encoder_hidden_states, encoder_attention_mask, past_key_value, output_attentions)\u001b[0m\n\u001b[1;32m    512\u001b[0m             \u001b[0mpresent_key_value\u001b[0m \u001b[0;34m=\u001b[0m \u001b[0mpresent_key_value\u001b[0m \u001b[0;34m+\u001b[0m \u001b[0mcross_attn_present_key_value\u001b[0m\u001b[0;34m\u001b[0m\u001b[0;34m\u001b[0m\u001b[0m\n\u001b[1;32m    513\u001b[0m \u001b[0;34m\u001b[0m\u001b[0m\n\u001b[0;32m--> 514\u001b[0;31m         layer_output = apply_chunking_to_forward(\n\u001b[0m\u001b[1;32m    515\u001b[0m             \u001b[0mself\u001b[0m\u001b[0;34m.\u001b[0m\u001b[0mfeed_forward_chunk\u001b[0m\u001b[0;34m,\u001b[0m \u001b[0mself\u001b[0m\u001b[0;34m.\u001b[0m\u001b[0mchunk_size_feed_forward\u001b[0m\u001b[0;34m,\u001b[0m \u001b[0mself\u001b[0m\u001b[0;34m.\u001b[0m\u001b[0mseq_len_dim\u001b[0m\u001b[0;34m,\u001b[0m \u001b[0mattention_output\u001b[0m\u001b[0;34m\u001b[0m\u001b[0;34m\u001b[0m\u001b[0m\n\u001b[1;32m    516\u001b[0m         )\n",
            "\u001b[0;32m/usr/local/lib/python3.10/dist-packages/transformers/pytorch_utils.py\u001b[0m in \u001b[0;36mapply_chunking_to_forward\u001b[0;34m(forward_fn, chunk_size, chunk_dim, *input_tensors)\u001b[0m\n\u001b[1;32m    235\u001b[0m         \u001b[0;32mreturn\u001b[0m \u001b[0mtorch\u001b[0m\u001b[0;34m.\u001b[0m\u001b[0mcat\u001b[0m\u001b[0;34m(\u001b[0m\u001b[0moutput_chunks\u001b[0m\u001b[0;34m,\u001b[0m \u001b[0mdim\u001b[0m\u001b[0;34m=\u001b[0m\u001b[0mchunk_dim\u001b[0m\u001b[0;34m)\u001b[0m\u001b[0;34m\u001b[0m\u001b[0;34m\u001b[0m\u001b[0m\n\u001b[1;32m    236\u001b[0m \u001b[0;34m\u001b[0m\u001b[0m\n\u001b[0;32m--> 237\u001b[0;31m     \u001b[0;32mreturn\u001b[0m \u001b[0mforward_fn\u001b[0m\u001b[0;34m(\u001b[0m\u001b[0;34m*\u001b[0m\u001b[0minput_tensors\u001b[0m\u001b[0;34m)\u001b[0m\u001b[0;34m\u001b[0m\u001b[0;34m\u001b[0m\u001b[0m\n\u001b[0m\u001b[1;32m    238\u001b[0m \u001b[0;34m\u001b[0m\u001b[0m\n\u001b[1;32m    239\u001b[0m \u001b[0;34m\u001b[0m\u001b[0m\n",
            "\u001b[0;32m/usr/local/lib/python3.10/dist-packages/transformers/models/bert/modeling_bert.py\u001b[0m in \u001b[0;36mfeed_forward_chunk\u001b[0;34m(self, attention_output)\u001b[0m\n\u001b[1;32m    524\u001b[0m \u001b[0;34m\u001b[0m\u001b[0m\n\u001b[1;32m    525\u001b[0m     \u001b[0;32mdef\u001b[0m \u001b[0mfeed_forward_chunk\u001b[0m\u001b[0;34m(\u001b[0m\u001b[0mself\u001b[0m\u001b[0;34m,\u001b[0m \u001b[0mattention_output\u001b[0m\u001b[0;34m)\u001b[0m\u001b[0;34m:\u001b[0m\u001b[0;34m\u001b[0m\u001b[0;34m\u001b[0m\u001b[0m\n\u001b[0;32m--> 526\u001b[0;31m         \u001b[0mintermediate_output\u001b[0m \u001b[0;34m=\u001b[0m \u001b[0mself\u001b[0m\u001b[0;34m.\u001b[0m\u001b[0mintermediate\u001b[0m\u001b[0;34m(\u001b[0m\u001b[0mattention_output\u001b[0m\u001b[0;34m)\u001b[0m\u001b[0;34m\u001b[0m\u001b[0;34m\u001b[0m\u001b[0m\n\u001b[0m\u001b[1;32m    527\u001b[0m         \u001b[0mlayer_output\u001b[0m \u001b[0;34m=\u001b[0m \u001b[0mself\u001b[0m\u001b[0;34m.\u001b[0m\u001b[0moutput\u001b[0m\u001b[0;34m(\u001b[0m\u001b[0mintermediate_output\u001b[0m\u001b[0;34m,\u001b[0m \u001b[0mattention_output\u001b[0m\u001b[0;34m)\u001b[0m\u001b[0;34m\u001b[0m\u001b[0;34m\u001b[0m\u001b[0m\n\u001b[1;32m    528\u001b[0m         \u001b[0;32mreturn\u001b[0m \u001b[0mlayer_output\u001b[0m\u001b[0;34m\u001b[0m\u001b[0;34m\u001b[0m\u001b[0m\n",
            "\u001b[0;32m/usr/local/lib/python3.10/dist-packages/torch/nn/modules/module.py\u001b[0m in \u001b[0;36m_wrapped_call_impl\u001b[0;34m(self, *args, **kwargs)\u001b[0m\n\u001b[1;32m   1509\u001b[0m             \u001b[0;32mreturn\u001b[0m \u001b[0mself\u001b[0m\u001b[0;34m.\u001b[0m\u001b[0m_compiled_call_impl\u001b[0m\u001b[0;34m(\u001b[0m\u001b[0;34m*\u001b[0m\u001b[0margs\u001b[0m\u001b[0;34m,\u001b[0m \u001b[0;34m**\u001b[0m\u001b[0mkwargs\u001b[0m\u001b[0;34m)\u001b[0m  \u001b[0;31m# type: ignore[misc]\u001b[0m\u001b[0;34m\u001b[0m\u001b[0;34m\u001b[0m\u001b[0m\n\u001b[1;32m   1510\u001b[0m         \u001b[0;32melse\u001b[0m\u001b[0;34m:\u001b[0m\u001b[0;34m\u001b[0m\u001b[0;34m\u001b[0m\u001b[0m\n\u001b[0;32m-> 1511\u001b[0;31m             \u001b[0;32mreturn\u001b[0m \u001b[0mself\u001b[0m\u001b[0;34m.\u001b[0m\u001b[0m_call_impl\u001b[0m\u001b[0;34m(\u001b[0m\u001b[0;34m*\u001b[0m\u001b[0margs\u001b[0m\u001b[0;34m,\u001b[0m \u001b[0;34m**\u001b[0m\u001b[0mkwargs\u001b[0m\u001b[0;34m)\u001b[0m\u001b[0;34m\u001b[0m\u001b[0;34m\u001b[0m\u001b[0m\n\u001b[0m\u001b[1;32m   1512\u001b[0m \u001b[0;34m\u001b[0m\u001b[0m\n\u001b[1;32m   1513\u001b[0m     \u001b[0;32mdef\u001b[0m \u001b[0m_call_impl\u001b[0m\u001b[0;34m(\u001b[0m\u001b[0mself\u001b[0m\u001b[0;34m,\u001b[0m \u001b[0;34m*\u001b[0m\u001b[0margs\u001b[0m\u001b[0;34m,\u001b[0m \u001b[0;34m**\u001b[0m\u001b[0mkwargs\u001b[0m\u001b[0;34m)\u001b[0m\u001b[0;34m:\u001b[0m\u001b[0;34m\u001b[0m\u001b[0;34m\u001b[0m\u001b[0m\n",
            "\u001b[0;32m/usr/local/lib/python3.10/dist-packages/torch/nn/modules/module.py\u001b[0m in \u001b[0;36m_call_impl\u001b[0;34m(self, *args, **kwargs)\u001b[0m\n\u001b[1;32m   1518\u001b[0m                 \u001b[0;32mor\u001b[0m \u001b[0m_global_backward_pre_hooks\u001b[0m \u001b[0;32mor\u001b[0m \u001b[0m_global_backward_hooks\u001b[0m\u001b[0;34m\u001b[0m\u001b[0;34m\u001b[0m\u001b[0m\n\u001b[1;32m   1519\u001b[0m                 or _global_forward_hooks or _global_forward_pre_hooks):\n\u001b[0;32m-> 1520\u001b[0;31m             \u001b[0;32mreturn\u001b[0m \u001b[0mforward_call\u001b[0m\u001b[0;34m(\u001b[0m\u001b[0;34m*\u001b[0m\u001b[0margs\u001b[0m\u001b[0;34m,\u001b[0m \u001b[0;34m**\u001b[0m\u001b[0mkwargs\u001b[0m\u001b[0;34m)\u001b[0m\u001b[0;34m\u001b[0m\u001b[0;34m\u001b[0m\u001b[0m\n\u001b[0m\u001b[1;32m   1521\u001b[0m \u001b[0;34m\u001b[0m\u001b[0m\n\u001b[1;32m   1522\u001b[0m         \u001b[0;32mtry\u001b[0m\u001b[0;34m:\u001b[0m\u001b[0;34m\u001b[0m\u001b[0;34m\u001b[0m\u001b[0m\n",
            "\u001b[0;32m/usr/local/lib/python3.10/dist-packages/transformers/models/bert/modeling_bert.py\u001b[0m in \u001b[0;36mforward\u001b[0;34m(self, hidden_states)\u001b[0m\n\u001b[1;32m    425\u001b[0m     \u001b[0;32mdef\u001b[0m \u001b[0mforward\u001b[0m\u001b[0;34m(\u001b[0m\u001b[0mself\u001b[0m\u001b[0;34m,\u001b[0m \u001b[0mhidden_states\u001b[0m\u001b[0;34m:\u001b[0m \u001b[0mtorch\u001b[0m\u001b[0;34m.\u001b[0m\u001b[0mTensor\u001b[0m\u001b[0;34m)\u001b[0m \u001b[0;34m->\u001b[0m \u001b[0mtorch\u001b[0m\u001b[0;34m.\u001b[0m\u001b[0mTensor\u001b[0m\u001b[0;34m:\u001b[0m\u001b[0;34m\u001b[0m\u001b[0;34m\u001b[0m\u001b[0m\n\u001b[1;32m    426\u001b[0m         \u001b[0mhidden_states\u001b[0m \u001b[0;34m=\u001b[0m \u001b[0mself\u001b[0m\u001b[0;34m.\u001b[0m\u001b[0mdense\u001b[0m\u001b[0;34m(\u001b[0m\u001b[0mhidden_states\u001b[0m\u001b[0;34m)\u001b[0m\u001b[0;34m\u001b[0m\u001b[0;34m\u001b[0m\u001b[0m\n\u001b[0;32m--> 427\u001b[0;31m         \u001b[0mhidden_states\u001b[0m \u001b[0;34m=\u001b[0m \u001b[0mself\u001b[0m\u001b[0;34m.\u001b[0m\u001b[0mintermediate_act_fn\u001b[0m\u001b[0;34m(\u001b[0m\u001b[0mhidden_states\u001b[0m\u001b[0;34m)\u001b[0m\u001b[0;34m\u001b[0m\u001b[0;34m\u001b[0m\u001b[0m\n\u001b[0m\u001b[1;32m    428\u001b[0m         \u001b[0;32mreturn\u001b[0m \u001b[0mhidden_states\u001b[0m\u001b[0;34m\u001b[0m\u001b[0;34m\u001b[0m\u001b[0m\n\u001b[1;32m    429\u001b[0m \u001b[0;34m\u001b[0m\u001b[0m\n",
            "\u001b[0;32m/usr/local/lib/python3.10/dist-packages/torch/nn/modules/module.py\u001b[0m in \u001b[0;36m_wrapped_call_impl\u001b[0;34m(self, *args, **kwargs)\u001b[0m\n\u001b[1;32m   1509\u001b[0m             \u001b[0;32mreturn\u001b[0m \u001b[0mself\u001b[0m\u001b[0;34m.\u001b[0m\u001b[0m_compiled_call_impl\u001b[0m\u001b[0;34m(\u001b[0m\u001b[0;34m*\u001b[0m\u001b[0margs\u001b[0m\u001b[0;34m,\u001b[0m \u001b[0;34m**\u001b[0m\u001b[0mkwargs\u001b[0m\u001b[0;34m)\u001b[0m  \u001b[0;31m# type: ignore[misc]\u001b[0m\u001b[0;34m\u001b[0m\u001b[0;34m\u001b[0m\u001b[0m\n\u001b[1;32m   1510\u001b[0m         \u001b[0;32melse\u001b[0m\u001b[0;34m:\u001b[0m\u001b[0;34m\u001b[0m\u001b[0;34m\u001b[0m\u001b[0m\n\u001b[0;32m-> 1511\u001b[0;31m             \u001b[0;32mreturn\u001b[0m \u001b[0mself\u001b[0m\u001b[0;34m.\u001b[0m\u001b[0m_call_impl\u001b[0m\u001b[0;34m(\u001b[0m\u001b[0;34m*\u001b[0m\u001b[0margs\u001b[0m\u001b[0;34m,\u001b[0m \u001b[0;34m**\u001b[0m\u001b[0mkwargs\u001b[0m\u001b[0;34m)\u001b[0m\u001b[0;34m\u001b[0m\u001b[0;34m\u001b[0m\u001b[0m\n\u001b[0m\u001b[1;32m   1512\u001b[0m \u001b[0;34m\u001b[0m\u001b[0m\n\u001b[1;32m   1513\u001b[0m     \u001b[0;32mdef\u001b[0m \u001b[0m_call_impl\u001b[0m\u001b[0;34m(\u001b[0m\u001b[0mself\u001b[0m\u001b[0;34m,\u001b[0m \u001b[0;34m*\u001b[0m\u001b[0margs\u001b[0m\u001b[0;34m,\u001b[0m \u001b[0;34m**\u001b[0m\u001b[0mkwargs\u001b[0m\u001b[0;34m)\u001b[0m\u001b[0;34m:\u001b[0m\u001b[0;34m\u001b[0m\u001b[0;34m\u001b[0m\u001b[0m\n",
            "\u001b[0;32m/usr/local/lib/python3.10/dist-packages/torch/nn/modules/module.py\u001b[0m in \u001b[0;36m_call_impl\u001b[0;34m(self, *args, **kwargs)\u001b[0m\n\u001b[1;32m   1518\u001b[0m                 \u001b[0;32mor\u001b[0m \u001b[0m_global_backward_pre_hooks\u001b[0m \u001b[0;32mor\u001b[0m \u001b[0m_global_backward_hooks\u001b[0m\u001b[0;34m\u001b[0m\u001b[0;34m\u001b[0m\u001b[0m\n\u001b[1;32m   1519\u001b[0m                 or _global_forward_hooks or _global_forward_pre_hooks):\n\u001b[0;32m-> 1520\u001b[0;31m             \u001b[0;32mreturn\u001b[0m \u001b[0mforward_call\u001b[0m\u001b[0;34m(\u001b[0m\u001b[0;34m*\u001b[0m\u001b[0margs\u001b[0m\u001b[0;34m,\u001b[0m \u001b[0;34m**\u001b[0m\u001b[0mkwargs\u001b[0m\u001b[0;34m)\u001b[0m\u001b[0;34m\u001b[0m\u001b[0;34m\u001b[0m\u001b[0m\n\u001b[0m\u001b[1;32m   1521\u001b[0m \u001b[0;34m\u001b[0m\u001b[0m\n\u001b[1;32m   1522\u001b[0m         \u001b[0;32mtry\u001b[0m\u001b[0;34m:\u001b[0m\u001b[0;34m\u001b[0m\u001b[0;34m\u001b[0m\u001b[0m\n",
            "\u001b[0;32m/usr/local/lib/python3.10/dist-packages/transformers/activations.py\u001b[0m in \u001b[0;36mforward\u001b[0;34m(self, input)\u001b[0m\n\u001b[1;32m     76\u001b[0m \u001b[0;34m\u001b[0m\u001b[0m\n\u001b[1;32m     77\u001b[0m     \u001b[0;32mdef\u001b[0m \u001b[0mforward\u001b[0m\u001b[0;34m(\u001b[0m\u001b[0mself\u001b[0m\u001b[0;34m,\u001b[0m \u001b[0minput\u001b[0m\u001b[0;34m:\u001b[0m \u001b[0mTensor\u001b[0m\u001b[0;34m)\u001b[0m \u001b[0;34m->\u001b[0m \u001b[0mTensor\u001b[0m\u001b[0;34m:\u001b[0m\u001b[0;34m\u001b[0m\u001b[0;34m\u001b[0m\u001b[0m\n\u001b[0;32m---> 78\u001b[0;31m         \u001b[0;32mreturn\u001b[0m \u001b[0mself\u001b[0m\u001b[0;34m.\u001b[0m\u001b[0mact\u001b[0m\u001b[0;34m(\u001b[0m\u001b[0minput\u001b[0m\u001b[0;34m)\u001b[0m\u001b[0;34m\u001b[0m\u001b[0;34m\u001b[0m\u001b[0m\n\u001b[0m\u001b[1;32m     79\u001b[0m \u001b[0;34m\u001b[0m\u001b[0m\n\u001b[1;32m     80\u001b[0m \u001b[0;34m\u001b[0m\u001b[0m\n",
            "\u001b[0;31mOutOfMemoryError\u001b[0m: CUDA out of memory. Tried to allocate 414.00 MiB. GPU 0 has a total capacity of 22.17 GiB of which 116.88 MiB is free. Process 11954 has 22.05 GiB memory in use. Of the allocated memory 21.65 GiB is allocated by PyTorch, and 176.51 MiB is reserved by PyTorch but unallocated. If reserved but unallocated memory is large try setting PYTORCH_CUDA_ALLOC_CONF=expandable_segments:True to avoid fragmentation.  See documentation for Memory Management  (https://pytorch.org/docs/stable/notes/cuda.html#environment-variables)"
          ]
        }
      ],
      "source": [
        "# Fine Tune Model\n",
        "_, training_data = train_model(num_epochs, model, criterion, train_batches, val_batches, lr_scheduler_step_size, lr_scheduler_gamma, learning_rate, device)\n",
        "\n"
      ]
    },
    {
      "cell_type": "code",
      "execution_count": null,
      "metadata": {
        "id": "u4TruL_Lm1Bp"
      },
      "outputs": [],
      "source": [
        "# Save training data to txt\n",
        "save_training_data(training_data, num_classes, max_lenght)"
      ]
    },
    {
      "cell_type": "code",
      "execution_count": null,
      "metadata": {
        "id": "9WRRlVp59eS8"
      },
      "outputs": [],
      "source": [
        "# Test Model\n",
        "all_pred_labels, all_true_labels, all_ids, total_loss = run_model_testing(model, test_batches, criterion, device)\n"
      ]
    },
    {
      "cell_type": "code",
      "execution_count": null,
      "metadata": {
        "id": "RlK5cOI8meQH"
      },
      "outputs": [],
      "source": [
        "# Save output tensors\n",
        "save_output_tensors(all_pred_labels, all_true_labels, all_ids, total_loss, max_lenght, num_classes, model_type)"
      ]
    },
    {
      "cell_type": "code",
      "execution_count": null,
      "metadata": {
        "colab": {
          "base_uri": "https://localhost:8080/"
        },
        "id": "gKFyicECzt6R",
        "outputId": "4ad8f085-0f18-4e04-c5c0-525c7fe26a2b"
      },
      "outputs": [
        {
          "output_type": "execute_result",
          "data": {
            "text/plain": [
              "0.44519940915805023"
            ]
          },
          "metadata": {},
          "execution_count": 37
        }
      ],
      "source": [
        "test_pred_labels_list = [torch.round(label).item() for label in all_pred_labels]\n",
        "test_true_labels_list = [torch.round(label).item() for label in all_true_labels]\n",
        "\n",
        "accuracy_score(test_true_labels_list, test_pred_labels_list)\n",
        "\n"
      ]
    },
    {
      "cell_type": "markdown",
      "metadata": {
        "id": "GG_UzeKU0LPd"
      },
      "source": [
        "## Testing"
      ]
    },
    {
      "cell_type": "code",
      "execution_count": 13,
      "metadata": {
        "id": "k8Eh_YyfA3yP"
      },
      "outputs": [],
      "source": [
        "BATCH_SIZE = 8\n",
        "\n",
        "num_classes = 3\n",
        "max_lenght = 128\n",
        "\n",
        "model_type = \"not_fine_tuned\""
      ]
    },
    {
      "cell_type": "markdown",
      "metadata": {
        "id": "Hsq5C--0JWzN"
      },
      "source": [
        "### Run Model"
      ]
    },
    {
      "cell_type": "code",
      "execution_count": 14,
      "metadata": {
        "id": "m6vihjVjDxQ9",
        "colab": {
          "base_uri": "https://localhost:8080/",
          "height": 244,
          "referenced_widgets": [
            "705f4dbba27e4638b9d63c8d64667f91",
            "22639fbbd7cd425b850956626d1ac6d7",
            "3eb738c04c144765ae735d430cdbe662",
            "611dc7cccda94d3ea819296948d56e80",
            "bf03212b498d47ffb8d6a8279d24d14d",
            "3688b912f31f4bbfb5189d2df842be83",
            "fa5d16b2759d4b01b8da5dbfbc848a25",
            "6129470b9f6748359aa712f1136ad2a0",
            "b6b447ea09ba49e89490a2bada717318",
            "dc1c6560313643d894e376c9e181703b",
            "eda6c6437d864c2b80028ffd253da33b",
            "7df9eb33dbdc4ade8c14749d96da056a",
            "b38b5b79bf254b3ba7d8ae1cd4eff33a",
            "f77052a047764120923a4c46abd2d585",
            "c605b0393a0d41c890ce024001b27ba2",
            "5b3562b553214250ba6331957604e241",
            "7d28368e65a64e7a82c41ef0a1e70a4b",
            "05452ac617c64025ab22eb3e0b2be2c0",
            "46d1d230a4814d41a90bd314ddf0daa2",
            "792a6ad4ba244162b09896052d09923b",
            "c1d4795f514049078922be95e20a828c",
            "f0b7a863c2f941d8920a5d450a06c4ae"
          ]
        },
        "outputId": "1e302ec3-e51b-4717-c554-23eabe84e4ef"
      },
      "outputs": [
        {
          "output_type": "stream",
          "name": "stderr",
          "text": [
            "/usr/local/lib/python3.10/dist-packages/huggingface_hub/utils/_token.py:88: UserWarning: \n",
            "The secret `HF_TOKEN` does not exist in your Colab secrets.\n",
            "To authenticate with the Hugging Face Hub, create a token in your settings tab (https://huggingface.co/settings/tokens), set it as secret in your Google Colab and restart your session.\n",
            "You will be able to reuse this secret in all of your notebooks.\n",
            "Please note that authentication is recommended but still optional to access public models or datasets.\n",
            "  warnings.warn(\n"
          ]
        },
        {
          "output_type": "display_data",
          "data": {
            "text/plain": [
              "config.json:   0%|          | 0.00/359 [00:00<?, ?B/s]"
            ],
            "application/vnd.jupyter.widget-view+json": {
              "version_major": 2,
              "version_minor": 0,
              "model_id": "705f4dbba27e4638b9d63c8d64667f91"
            }
          },
          "metadata": {}
        },
        {
          "output_type": "display_data",
          "data": {
            "text/plain": [
              "pytorch_model.bin:   0%|          | 0.00/442M [00:00<?, ?B/s]"
            ],
            "application/vnd.jupyter.widget-view+json": {
              "version_major": 2,
              "version_minor": 0,
              "model_id": "7df9eb33dbdc4ade8c14749d96da056a"
            }
          },
          "metadata": {}
        },
        {
          "output_type": "stream",
          "name": "stderr",
          "text": [
            "Some weights of BertForSequenceClassification were not initialized from the model checkpoint at yiyanghkust/finbert-pretrain and are newly initialized: ['classifier.bias', 'classifier.weight']\n",
            "You should probably TRAIN this model on a down-stream task to be able to use it for predictions and inference.\n"
          ]
        }
      ],
      "source": [
        "device = torch.device(\"cuda\" if torch.cuda.is_available() else \"cpu\")\n",
        "\n",
        "# Load pre-trained FinBERT model\n",
        "model, criterion = get_model(num_classes, device, model_name)\n",
        "# Load input tensors\n",
        "encoded_inputs_loaded, labels_loaded, encoded_attention_mask_loaded, text_ids_loaded = load_input_tensors(max_lenght, num_classes)\n",
        "# Get batches\n",
        "train_batches, val_batches, test_batches = get_batches(text_ids_loaded, encoded_inputs_loaded, labels_loaded, encoded_attention_mask_loaded, BATCH_SIZE)"
      ]
    },
    {
      "cell_type": "code",
      "execution_count": 15,
      "metadata": {
        "id": "FCfFd70AbX5p"
      },
      "outputs": [],
      "source": [
        "# Run model\n",
        "all_pred_labels, all_true_labels, all_ids, total_loss = run_model_testing(model, test_batches, criterion, device)\n"
      ]
    },
    {
      "cell_type": "code",
      "execution_count": 16,
      "metadata": {
        "id": "8qYup8E51Thb"
      },
      "outputs": [],
      "source": [
        "# Save output tensors\n",
        "save_output_tensors(all_pred_labels, all_true_labels, all_ids, total_loss, max_lenght, num_classes, model_type)"
      ]
    },
    {
      "cell_type": "markdown",
      "metadata": {
        "id": "5ALSsJI7Z26X"
      },
      "source": [
        "# Analysis"
      ]
    },
    {
      "cell_type": "markdown",
      "metadata": {
        "id": "M9x01M79aEPb"
      },
      "source": [
        "## Load Tensors"
      ]
    },
    {
      "cell_type": "code",
      "execution_count": 7,
      "metadata": {
        "id": "ZVQeXZf-aGW5"
      },
      "outputs": [],
      "source": [
        "def load_output_tensors(max_lenght, num_classes, model_type):\n",
        "  # Define the directory path to save the tensors\n",
        "  out_save_dir = 'outputTensor/'\n",
        "  device = torch.device(\"cuda\" if torch.cuda.is_available() else \"cpu\")\n",
        "\n",
        "  # Load the saved tensors from disk\n",
        "  pred_labels = torch.load(os.path.join(out_save_dir, 'pred_labels_'+str(max_lenght)+\"_\"+str(num_classes)+\"_\"+str(model_type)+'.pt'), map_location=torch.device(device))\n",
        "  true_labels = torch.load(os.path.join(out_save_dir, 'true_labels_'+str(max_lenght)+\"_\"+str(num_classes)+\"_\"+str(model_type)+'.pt'), map_location=torch.device(device))\n",
        "  all_ids = torch.load(os.path.join(out_save_dir, 'all_ids_'+str(max_lenght)+\"_\"+str(num_classes)+\"_\"+str(model_type)+'.pt'), map_location=torch.device(device))\n",
        "  losses = torch.load(os.path.join(out_save_dir, 'total_losses_'+str(max_lenght)+\"_\"+str(num_classes)+\"_\"+str(model_type)+'.pt'), map_location=torch.device(device))\n",
        "  return pred_labels, true_labels, losses ,all_ids\n"
      ]
    },
    {
      "cell_type": "markdown",
      "metadata": {
        "id": "0ifSJbpGzWtU"
      },
      "source": [
        "## Utils"
      ]
    },
    {
      "cell_type": "code",
      "source": [
        "import matplotlib.pyplot as plt\n",
        "import seaborn as sns\n",
        "from sklearn.metrics import confusion_matrix"
      ],
      "metadata": {
        "id": "aVCrk8YYXMAL"
      },
      "execution_count": 2,
      "outputs": []
    },
    {
      "cell_type": "code",
      "execution_count": 1,
      "metadata": {
        "id": "J-4N7UMXljfW"
      },
      "outputs": [],
      "source": [
        "def get_metrics(pred_labels, true_labels, losses, num_classes, model_type):\n",
        "\n",
        "  # Calculate accuracy\n",
        "  accuracy = accuracy_score(true_labels, pred_labels)\n",
        "\n",
        "  # Calculate confusion matrix\n",
        "  conf_matrix = confusion_matrix(true_labels, pred_labels)\n",
        "\n",
        "  plot_confusion_matrix(conf_matrix, model_type)\n",
        "\n",
        "  # Print accuracy and confusion matrix\n",
        "  print(\"Accuracy:\", accuracy)\n",
        "  print(\"Losses:\", losses)\n",
        "  #print(\"Confusion Matrix:\")\n",
        "  #print(conf_matrix)\n",
        "\n",
        "  # Generate classification report (includes precision, recall, and F1 score)\n",
        "  class_report = classification_report(true_labels, pred_labels, zero_division=1, output_dict=True)\n",
        "  plot_classification_report(class_report, model_type)\n",
        "\n",
        "  #print(\"Classification Report:\")\n",
        "  #print(class_report)\n",
        "\n",
        "  return accuracy\n",
        "\n",
        "\n",
        "def plot_confusion_matrix(matrix, model_type):\n",
        "  title = \"Confusion Matrix for Finbert Model\"\n",
        "  plt.figure(figsize=(4, 3))\n",
        "  sns.heatmap(matrix, annot=True, fmt=\"d\", cmap=\"YlGnBu\")\n",
        "  plt.title(title)\n",
        "  plt.xlabel('Predicted Labels')\n",
        "  plt.ylabel('True Labels')\n",
        "  plt.savefig(title+\"_\"+model_type+\".png\")\n",
        "  plt.show()\n",
        "  plt.clf()\n",
        "\n",
        "def plot_classification_report(class_report, model_type):\n",
        "  title = \"Classification Report for Finbert Model\"\n",
        "\n",
        "  # Plot classification report\n",
        "  plt.figure(figsize=(4, 3))\n",
        "  sns.heatmap(pd.DataFrame(class_report).iloc[:-1, :].T, annot=True)\n",
        "  plt.title(title)\n",
        "  plt.xlabel('Metrics')\n",
        "  plt.ylabel('Classes')\n",
        "  plt.savefig(title+\"_\"+model_type+\".png\")\n",
        "  plt.show()\n",
        "  plt.clf()\n"
      ]
    },
    {
      "cell_type": "code",
      "source": [
        "def plot_losses(epochs, train_loss, val_loss, model_type):\n",
        "  title = \"Training vs Validation Loss for Finbert\"\n",
        "\n",
        "  plt.plot(epochs, train_loss, label='Training Loss')\n",
        "  plt.plot(epochs, val_loss, label='Validation Loss')\n",
        "  plt.xlabel('Epochs')\n",
        "  plt.ylabel('Loss')\n",
        "  plt.title(title)\n",
        "  plt.legend()\n",
        "  plt.savefig(title+\"_\"+model_type+\".png\")\n",
        "  plt.show()\n",
        "\n",
        "\n",
        "def get_losses_and_accuracy(max_lenght, num_classes, model_type):\n",
        "  dir = \"outputTensor/\" + \"training_data+\"+str(num_classes)+\"_\"+str(max_lenght)+\".txt\"\n",
        "  with open(dir, 'r') as file:\n",
        "    lines = file.readlines()\n",
        "  # Extract data from each line\n",
        "  epochs = []\n",
        "  train_loss = []\n",
        "  val_loss = []\n",
        "  val_acc = []\n",
        "  for line in lines:\n",
        "      parts = line.strip().split(', ')\n",
        "      epochs.append(int(parts[0].split('/')[0].split(' ')[1]))\n",
        "      train_loss.append(float(parts[1].split(': ')[1]))\n",
        "      val_loss.append(float(parts[2].split(': ')[1]))\n",
        "      val_acc.append(float(parts[3].split(': ')[1]))\n",
        "\n",
        "  return epochs, train_loss, val_loss, val_acc\n",
        "\n",
        "def plot_accuracy(epochs, val_acc, model_type):\n",
        "  title = \"Validation Accuracies for Finbert\"\n",
        "  plt.plot(epochs, val_acc, label='Validation Loss')\n",
        "  plt.xlabel('Epochs')\n",
        "  plt.ylabel('Accuracy')\n",
        "  plt.title(title)\n",
        "  plt.legend()\n",
        "  plt.savefig(title+\"_\"+model_type+\".png\")\n",
        "  plt.show()\n"
      ],
      "metadata": {
        "id": "r-UwYdvBOXhV"
      },
      "execution_count": 12,
      "outputs": []
    },
    {
      "cell_type": "markdown",
      "metadata": {
        "id": "idwXMkkGaZqY"
      },
      "source": [
        "## Get Metrics Not Fine Tuned"
      ]
    },
    {
      "cell_type": "markdown",
      "metadata": {
        "id": "icp9U-IYyfDJ"
      },
      "source": [
        "### 3-128"
      ]
    },
    {
      "cell_type": "code",
      "execution_count": 8,
      "metadata": {
        "colab": {
          "base_uri": "https://localhost:8080/",
          "height": 1000
        },
        "id": "-yvniBilmIar",
        "outputId": "12550b02-8d32-42e6-fdc9-02b85b69156d"
      },
      "outputs": [
        {
          "output_type": "display_data",
          "data": {
            "text/plain": [
              "<Figure size 400x300 with 2 Axes>"
            ],
            "image/png": "[encoded data removed]"
          },
          "metadata": {}
        },
        {
          "output_type": "stream",
          "name": "stdout",
          "text": [
            "Accuracy: 0.24401772525849336\n",
            "Losses: tensor([1.1925], device='cuda:0')\n"
          ]
        },
        {
          "output_type": "display_data",
          "data": {
            "text/plain": [
              "<Figure size 640x480 with 0 Axes>"
            ]
          },
          "metadata": {}
        },
        {
          "output_type": "display_data",
          "data": {
            "text/plain": [
              "<Figure size 400x300 with 2 Axes>"
            ],
            "image/png": "[encoded data removed]"
          },
          "metadata": {}
        },
        {
          "output_type": "display_data",
          "data": {
            "text/plain": [
              "<Figure size 640x480 with 0 Axes>"
            ]
          },
          "metadata": {}
        },
        {
          "output_type": "display_data",
          "data": {
            "text/plain": [
              "<Figure size 400x300 with 2 Axes>"
            ],
            "image/png": "[encoded data removed]"
          },
          "metadata": {}
        },
        {
          "output_type": "stream",
          "name": "stdout",
          "text": [
            "Accuracy: 0.18584070796460178\n",
            "Losses: tensor([1.1925], device='cuda:0')\n"
          ]
        },
        {
          "output_type": "display_data",
          "data": {
            "text/plain": [
              "<Figure size 640x480 with 0 Axes>"
            ]
          },
          "metadata": {}
        },
        {
          "output_type": "display_data",
          "data": {
            "text/plain": [
              "<Figure size 400x300 with 2 Axes>"
            ],
            "image/png": "[encoded data removed]"
          },
          "metadata": {}
        },
        {
          "output_type": "display_data",
          "data": {
            "text/plain": [
              "<Figure size 640x480 with 0 Axes>"
            ]
          },
          "metadata": {}
        }
      ],
      "source": [
        "num_classes = 3\n",
        "max_lenght = 128\n",
        "model_type = \"not_fine_tuned\"\n",
        "\n",
        "pred_labels, true_labels, losses, all_ids = load_output_tensors(max_lenght, num_classes, model_type)\n",
        "\n",
        "# Convert lists of tensors to lists of integers\n",
        "predicted_labels = np.array([label.item() for label in pred_labels])\n",
        "true_labels = np.array([label.item() for label in true_labels])\n",
        "all_ids = [int(id.item()) for id in all_ids]\n",
        "\n",
        "\n",
        "#unaggregated\n",
        "get_metrics(predicted_labels, true_labels, losses, num_classes, model_type)\n",
        "\n",
        "#aggregated\n",
        "input_ids, counts = np.unique(all_ids, return_counts=True)\n",
        "aggreg_pred = [Counter(predicted_labels[list(np.where(np.array(all_ids) == input_id)[0])]).most_common(1)[0][0]\n",
        "  for input_id in input_ids\n",
        "]\n",
        "\n",
        "aggreg_true = [Counter(true_labels[list(np.where(np.array(all_ids) == input_id)[0])]).most_common(1)[0][0]\n",
        "  for input_id in input_ids\n",
        "]\n",
        "\n",
        "not_fine_tuned_accur = get_metrics(aggreg_pred, aggreg_true, losses, num_classes, model_type)"
      ]
    },
    {
      "cell_type": "markdown",
      "metadata": {
        "id": "u1Esr8_Qz3lz"
      },
      "source": [
        "## Get Metrics Fine Tuned"
      ]
    },
    {
      "cell_type": "markdown",
      "metadata": {
        "id": "iphj7Qmsz69_"
      },
      "source": [
        "### 3-128 Weights half"
      ]
    },
    {
      "cell_type": "code",
      "execution_count": 9,
      "metadata": {
        "id": "3nix7C2_0VDC",
        "colab": {
          "base_uri": "https://localhost:8080/",
          "height": 1000
        },
        "outputId": "3fec518d-6c0c-4205-fc18-a35edc3449d6"
      },
      "outputs": [
        {
          "output_type": "display_data",
          "data": {
            "text/plain": [
              "<Figure size 400x300 with 2 Axes>"
            ],
            "image/png": "[encoded data removed]"
          },
          "metadata": {}
        },
        {
          "output_type": "stream",
          "name": "stdout",
          "text": [
            "Accuracy: 0.44519940915805023\n",
            "Losses: tensor([1.5131], device='cuda:0')\n"
          ]
        },
        {
          "output_type": "display_data",
          "data": {
            "text/plain": [
              "<Figure size 640x480 with 0 Axes>"
            ]
          },
          "metadata": {}
        },
        {
          "output_type": "display_data",
          "data": {
            "text/plain": [
              "<Figure size 400x300 with 2 Axes>"
            ],
            "image/png": "[encoded data removed]"
          },
          "metadata": {}
        },
        {
          "output_type": "display_data",
          "data": {
            "text/plain": [
              "<Figure size 640x480 with 0 Axes>"
            ]
          },
          "metadata": {}
        },
        {
          "output_type": "display_data",
          "data": {
            "text/plain": [
              "<Figure size 400x300 with 2 Axes>"
            ],
            "image/png": "[encoded data removed]"
          },
          "metadata": {}
        },
        {
          "output_type": "stream",
          "name": "stdout",
          "text": [
            "Accuracy: 0.5221238938053098\n",
            "Losses: tensor([1.5131], device='cuda:0')\n"
          ]
        },
        {
          "output_type": "display_data",
          "data": {
            "text/plain": [
              "<Figure size 640x480 with 0 Axes>"
            ]
          },
          "metadata": {}
        },
        {
          "output_type": "display_data",
          "data": {
            "text/plain": [
              "<Figure size 400x300 with 2 Axes>"
            ],
            "image/png": "[encoded data removed]"
          },
          "metadata": {}
        },
        {
          "output_type": "display_data",
          "data": {
            "text/plain": [
              "<Figure size 640x480 with 0 Axes>"
            ]
          },
          "metadata": {}
        }
      ],
      "source": [
        "num_classes = 3\n",
        "max_lenght = 128\n",
        "model_type = \"fine_tuned\"\n",
        "\n",
        "pred_labels, true_labels, losses, all_ids = load_output_tensors(max_lenght, num_classes, model_type)\n",
        "\n",
        "# Convert lists of tensors to lists of integers\n",
        "predicted_labels = np.array([label.item() for label in pred_labels])\n",
        "true_labels = np.array([label.item() for label in true_labels])\n",
        "all_ids = [int(id.item()) for id in all_ids]\n",
        "\n",
        "\n",
        "#unaggregated\n",
        "get_metrics(predicted_labels, true_labels, losses, num_classes, model_type)\n",
        "\n",
        "#aggregated\n",
        "input_ids, counts = np.unique(all_ids, return_counts=True)\n",
        "aggreg_pred = [Counter(predicted_labels[list(np.where(np.array(all_ids) == input_id)[0])]).most_common(1)[0][0]\n",
        "  for input_id in input_ids\n",
        "]\n",
        "\n",
        "aggreg_true = [Counter(true_labels[list(np.where(np.array(all_ids) == input_id)[0])]).most_common(1)[0][0]\n",
        "  for input_id in input_ids\n",
        "]\n",
        "\n",
        "fine_tuned_accur = get_metrics(aggreg_pred, aggreg_true, losses, num_classes, model_type)\n"
      ]
    },
    {
      "cell_type": "code",
      "source": [
        "epochs, train_loss, val_loss, val_acc = get_losses_and_accuracy(max_lenght, num_classes, model_type)\n",
        "plot_losses(epochs, train_loss, val_loss, model_type)\n",
        "plot_accuracy(epochs, val_acc, model_type)"
      ],
      "metadata": {
        "colab": {
          "base_uri": "https://localhost:8080/",
          "height": 927
        },
        "id": "l2qVh2rWPd5a",
        "outputId": "86fda310-bc10-4c61-b39d-f0ffa722a3fe"
      },
      "execution_count": 16,
      "outputs": [
        {
          "output_type": "display_data",
          "data": {
            "text/plain": [
              "<Figure size 640x480 with 1 Axes>"
            ],
            "image/png": "[encoded data removed]"
          },
          "metadata": {}
        },
        {
          "output_type": "display_data",
          "data": {
            "text/plain": [
              "<Figure size 640x480 with 1 Axes>"
            ],
            "image/png": "[encoded data removed]"
          },
          "metadata": {}
        }
      ]
    },
    {
      "cell_type": "markdown",
      "source": [
        "### Fine Tuned vs Not fined tuned"
      ],
      "metadata": {
        "id": "Ld0R6pOqsBUs"
      }
    },
    {
      "cell_type": "code",
      "source": [
        "accuracy = [not_fine_tuned_accur, fine_tuned_accur]\n",
        "labels = ['Not Fine-tuned', 'Fine-tuned']\n",
        "title = \"Testing Accuracy Baseline vs Fine-Tuned Finbert\"\n",
        "\n",
        "plt.figure(figsize=(4, 3))\n",
        "# Plotting\n",
        "plt.bar(labels, accuracy)\n",
        "plt.xlabel('Model')\n",
        "plt.ylabel('Accuracy')\n",
        "plt.title(title)\n",
        "plt.ylim(0, 1)  # Set y-axis limit from 0 to 1\n",
        "plt.savefig(title+\".png\")\n",
        "plt.show()\n",
        "plt.clf()"
      ],
      "metadata": {
        "colab": {
          "base_uri": "https://localhost:8080/",
          "height": 351
        },
        "id": "nEPxAQAwsKDZ",
        "outputId": "498d291b-611b-4fc7-d9f6-59ee723ce5e7"
      },
      "execution_count": 14,
      "outputs": [
        {
          "output_type": "display_data",
          "data": {
            "text/plain": [
              "<Figure size 400x300 with 1 Axes>"
            ],
            "image/png": "[encoded data removed]"
          },
          "metadata": {}
        },
        {
          "output_type": "display_data",
          "data": {
            "text/plain": [
              "<Figure size 640x480 with 0 Axes>"
            ]
          },
          "metadata": {}
        }
      ]
    }
  ],
  "metadata": {
    "colab": {
      "collapsed_sections": [
        "yr9CX1KzdEO8",
        "M9x01M79aEPb",
        "0ifSJbpGzWtU",
        "mtjLPUI2phdR",
        "b8nPEmb9pjMf",
        "e2xnYUUqpk0M",
        "A49xd1EKpoeP",
        "9amTvzM4pqfn",
        "u1Esr8_Qz3lz"
      ],
      "provenance": [],
      "machine_shape": "hm",
      "gpuType": "L4"
    },
    "kernelspec": {
      "display_name": "Python 3",
      "name": "python3"
    },
    "language_info": {
      "name": "python"
    },
    "widgets": {
      "application/vnd.jupyter.widget-state+json": {
        "3b1e2c0af30c4ed4848f9a35fb646a73": {
          "model_module": "@jupyter-widgets/controls",
          "model_name": "HBoxModel",
          "model_module_version": "1.5.0",
          "state": {
            "_dom_classes": [],
            "_model_module": "@jupyter-widgets/controls",
            "_model_module_version": "1.5.0",
            "_model_name": "HBoxModel",
            "_view_count": null,
            "_view_module": "@jupyter-widgets/controls",
            "_view_module_version": "1.5.0",
            "_view_name": "HBoxView",
            "box_style": "",
            "children": [
              "IPY_MODEL_21c9ae7950dd44af9c4bd7c4a1141ff4",
              "IPY_MODEL_40fb13126b554e7aa18a7ee3652ca097",
              "IPY_MODEL_e151ce3a77f94e5c94ed3e8639857208"
            ],
            "layout": "IPY_MODEL_f483f74d56904ad3b1a81cfd70083151"
          }
        },
        "21c9ae7950dd44af9c4bd7c4a1141ff4": {
          "model_module": "@jupyter-widgets/controls",
          "model_name": "HTMLModel",
          "model_module_version": "1.5.0",
          "state": {
            "_dom_classes": [],
            "_model_module": "@jupyter-widgets/controls",
            "_model_module_version": "1.5.0",
            "_model_name": "HTMLModel",
            "_view_count": null,
            "_view_module": "@jupyter-widgets/controls",
            "_view_module_version": "1.5.0",
            "_view_name": "HTMLView",
            "description": "",
            "description_tooltip": null,
            "layout": "IPY_MODEL_434160119e0445b3b0681493bd1c65ed",
            "placeholder": "​",
            "style": "IPY_MODEL_6e91d98d91144f4289d3a7446d934f9e",
            "value": "vocab.txt: 100%"
          }
        },
        "40fb13126b554e7aa18a7ee3652ca097": {
          "model_module": "@jupyter-widgets/controls",
          "model_name": "FloatProgressModel",
          "model_module_version": "1.5.0",
          "state": {
            "_dom_classes": [],
            "_model_module": "@jupyter-widgets/controls",
            "_model_module_version": "1.5.0",
            "_model_name": "FloatProgressModel",
            "_view_count": null,
            "_view_module": "@jupyter-widgets/controls",
            "_view_module_version": "1.5.0",
            "_view_name": "ProgressView",
            "bar_style": "success",
            "description": "",
            "description_tooltip": null,
            "layout": "IPY_MODEL_5c754425b3db469daf90914c07914c67",
            "max": 226122,
            "min": 0,
            "orientation": "horizontal",
            "style": "IPY_MODEL_d708144d3e454b2cbf2c9ff884eb9e37",
            "value": 226122
          }
        },
        "e151ce3a77f94e5c94ed3e8639857208": {
          "model_module": "@jupyter-widgets/controls",
          "model_name": "HTMLModel",
          "model_module_version": "1.5.0",
          "state": {
            "_dom_classes": [],
            "_model_module": "@jupyter-widgets/controls",
            "_model_module_version": "1.5.0",
            "_model_name": "HTMLModel",
            "_view_count": null,
            "_view_module": "@jupyter-widgets/controls",
            "_view_module_version": "1.5.0",
            "_view_name": "HTMLView",
            "description": "",
            "description_tooltip": null,
            "layout": "IPY_MODEL_ecc77e7bcaf949dba261cf3afe7633f2",
            "placeholder": "​",
            "style": "IPY_MODEL_1948f20779a94604a0ed852822e8c9e2",
            "value": " 226k/226k [00:00&lt;00:00, 14.7MB/s]"
          }
        },
        "f483f74d56904ad3b1a81cfd70083151": {
          "model_module": "@jupyter-widgets/base",
          "model_name": "LayoutModel",
          "model_module_version": "1.2.0",
          "state": {
            "_model_module": "@jupyter-widgets/base",
            "_model_module_version": "1.2.0",
            "_model_name": "LayoutModel",
            "_view_count": null,
            "_view_module": "@jupyter-widgets/base",
            "_view_module_version": "1.2.0",
            "_view_name": "LayoutView",
            "align_content": null,
            "align_items": null,
            "align_self": null,
            "border": null,
            "bottom": null,
            "display": null,
            "flex": null,
            "flex_flow": null,
            "grid_area": null,
            "grid_auto_columns": null,
            "grid_auto_flow": null,
            "grid_auto_rows": null,
            "grid_column": null,
            "grid_gap": null,
            "grid_row": null,
            "grid_template_areas": null,
            "grid_template_columns": null,
            "grid_template_rows": null,
            "height": null,
            "justify_content": null,
            "justify_items": null,
            "left": null,
            "margin": null,
            "max_height": null,
            "max_width": null,
            "min_height": null,
            "min_width": null,
            "object_fit": null,
            "object_position": null,
            "order": null,
            "overflow": null,
            "overflow_x": null,
            "overflow_y": null,
            "padding": null,
            "right": null,
            "top": null,
            "visibility": null,
            "width": null
          }
        },
        "434160119e0445b3b0681493bd1c65ed": {
          "model_module": "@jupyter-widgets/base",
          "model_name": "LayoutModel",
          "model_module_version": "1.2.0",
          "state": {
            "_model_module": "@jupyter-widgets/base",
            "_model_module_version": "1.2.0",
            "_model_name": "LayoutModel",
            "_view_count": null,
            "_view_module": "@jupyter-widgets/base",
            "_view_module_version": "1.2.0",
            "_view_name": "LayoutView",
            "align_content": null,
            "align_items": null,
            "align_self": null,
            "border": null,
            "bottom": null,
            "display": null,
            "flex": null,
            "flex_flow": null,
            "grid_area": null,
            "grid_auto_columns": null,
            "grid_auto_flow": null,
            "grid_auto_rows": null,
            "grid_column": null,
            "grid_gap": null,
            "grid_row": null,
            "grid_template_areas": null,
            "grid_template_columns": null,
            "grid_template_rows": null,
            "height": null,
            "justify_content": null,
            "justify_items": null,
            "left": null,
            "margin": null,
            "max_height": null,
            "max_width": null,
            "min_height": null,
            "min_width": null,
            "object_fit": null,
            "object_position": null,
            "order": null,
            "overflow": null,
            "overflow_x": null,
            "overflow_y": null,
            "padding": null,
            "right": null,
            "top": null,
            "visibility": null,
            "width": null
          }
        },
        "6e91d98d91144f4289d3a7446d934f9e": {
          "model_module": "@jupyter-widgets/controls",
          "model_name": "DescriptionStyleModel",
          "model_module_version": "1.5.0",
          "state": {
            "_model_module": "@jupyter-widgets/controls",
            "_model_module_version": "1.5.0",
            "_model_name": "DescriptionStyleModel",
            "_view_count": null,
            "_view_module": "@jupyter-widgets/base",
            "_view_module_version": "1.2.0",
            "_view_name": "StyleView",
            "description_width": ""
          }
        },
        "5c754425b3db469daf90914c07914c67": {
          "model_module": "@jupyter-widgets/base",
          "model_name": "LayoutModel",
          "model_module_version": "1.2.0",
          "state": {
            "_model_module": "@jupyter-widgets/base",
            "_model_module_version": "1.2.0",
            "_model_name": "LayoutModel",
            "_view_count": null,
            "_view_module": "@jupyter-widgets/base",
            "_view_module_version": "1.2.0",
            "_view_name": "LayoutView",
            "align_content": null,
            "align_items": null,
            "align_self": null,
            "border": null,
            "bottom": null,
            "display": null,
            "flex": null,
            "flex_flow": null,
            "grid_area": null,
            "grid_auto_columns": null,
            "grid_auto_flow": null,
            "grid_auto_rows": null,
            "grid_column": null,
            "grid_gap": null,
            "grid_row": null,
            "grid_template_areas": null,
            "grid_template_columns": null,
            "grid_template_rows": null,
            "height": null,
            "justify_content": null,
            "justify_items": null,
            "left": null,
            "margin": null,
            "max_height": null,
            "max_width": null,
            "min_height": null,
            "min_width": null,
            "object_fit": null,
            "object_position": null,
            "order": null,
            "overflow": null,
            "overflow_x": null,
            "overflow_y": null,
            "padding": null,
            "right": null,
            "top": null,
            "visibility": null,
            "width": null
          }
        },
        "d708144d3e454b2cbf2c9ff884eb9e37": {
          "model_module": "@jupyter-widgets/controls",
          "model_name": "ProgressStyleModel",
          "model_module_version": "1.5.0",
          "state": {
            "_model_module": "@jupyter-widgets/controls",
            "_model_module_version": "1.5.0",
            "_model_name": "ProgressStyleModel",
            "_view_count": null,
            "_view_module": "@jupyter-widgets/base",
            "_view_module_version": "1.2.0",
            "_view_name": "StyleView",
            "bar_color": null,
            "description_width": ""
          }
        },
        "ecc77e7bcaf949dba261cf3afe7633f2": {
          "model_module": "@jupyter-widgets/base",
          "model_name": "LayoutModel",
          "model_module_version": "1.2.0",
          "state": {
            "_model_module": "@jupyter-widgets/base",
            "_model_module_version": "1.2.0",
            "_model_name": "LayoutModel",
            "_view_count": null,
            "_view_module": "@jupyter-widgets/base",
            "_view_module_version": "1.2.0",
            "_view_name": "LayoutView",
            "align_content": null,
            "align_items": null,
            "align_self": null,
            "border": null,
            "bottom": null,
            "display": null,
            "flex": null,
            "flex_flow": null,
            "grid_area": null,
            "grid_auto_columns": null,
            "grid_auto_flow": null,
            "grid_auto_rows": null,
            "grid_column": null,
            "grid_gap": null,
            "grid_row": null,
            "grid_template_areas": null,
            "grid_template_columns": null,
            "grid_template_rows": null,
            "height": null,
            "justify_content": null,
            "justify_items": null,
            "left": null,
            "margin": null,
            "max_height": null,
            "max_width": null,
            "min_height": null,
            "min_width": null,
            "object_fit": null,
            "object_position": null,
            "order": null,
            "overflow": null,
            "overflow_x": null,
            "overflow_y": null,
            "padding": null,
            "right": null,
            "top": null,
            "visibility": null,
            "width": null
          }
        },
        "1948f20779a94604a0ed852822e8c9e2": {
          "model_module": "@jupyter-widgets/controls",
          "model_name": "DescriptionStyleModel",
          "model_module_version": "1.5.0",
          "state": {
            "_model_module": "@jupyter-widgets/controls",
            "_model_module_version": "1.5.0",
            "_model_name": "DescriptionStyleModel",
            "_view_count": null,
            "_view_module": "@jupyter-widgets/base",
            "_view_module_version": "1.2.0",
            "_view_name": "StyleView",
            "description_width": ""
          }
        },
        "705f4dbba27e4638b9d63c8d64667f91": {
          "model_module": "@jupyter-widgets/controls",
          "model_name": "HBoxModel",
          "model_module_version": "1.5.0",
          "state": {
            "_dom_classes": [],
            "_model_module": "@jupyter-widgets/controls",
            "_model_module_version": "1.5.0",
            "_model_name": "HBoxModel",
            "_view_count": null,
            "_view_module": "@jupyter-widgets/controls",
            "_view_module_version": "1.5.0",
            "_view_name": "HBoxView",
            "box_style": "",
            "children": [
              "IPY_MODEL_22639fbbd7cd425b850956626d1ac6d7",
              "IPY_MODEL_3eb738c04c144765ae735d430cdbe662",
              "IPY_MODEL_611dc7cccda94d3ea819296948d56e80"
            ],
            "layout": "IPY_MODEL_bf03212b498d47ffb8d6a8279d24d14d"
          }
        },
        "22639fbbd7cd425b850956626d1ac6d7": {
          "model_module": "@jupyter-widgets/controls",
          "model_name": "HTMLModel",
          "model_module_version": "1.5.0",
          "state": {
            "_dom_classes": [],
            "_model_module": "@jupyter-widgets/controls",
            "_model_module_version": "1.5.0",
            "_model_name": "HTMLModel",
            "_view_count": null,
            "_view_module": "@jupyter-widgets/controls",
            "_view_module_version": "1.5.0",
            "_view_name": "HTMLView",
            "description": "",
            "description_tooltip": null,
            "layout": "IPY_MODEL_3688b912f31f4bbfb5189d2df842be83",
            "placeholder": "​",
            "style": "IPY_MODEL_fa5d16b2759d4b01b8da5dbfbc848a25",
            "value": "config.json: 100%"
          }
        },
        "3eb738c04c144765ae735d430cdbe662": {
          "model_module": "@jupyter-widgets/controls",
          "model_name": "FloatProgressModel",
          "model_module_version": "1.5.0",
          "state": {
            "_dom_classes": [],
            "_model_module": "@jupyter-widgets/controls",
            "_model_module_version": "1.5.0",
            "_model_name": "FloatProgressModel",
            "_view_count": null,
            "_view_module": "@jupyter-widgets/controls",
            "_view_module_version": "1.5.0",
            "_view_name": "ProgressView",
            "bar_style": "success",
            "description": "",
            "description_tooltip": null,
            "layout": "IPY_MODEL_6129470b9f6748359aa712f1136ad2a0",
            "max": 359,
            "min": 0,
            "orientation": "horizontal",
            "style": "IPY_MODEL_b6b447ea09ba49e89490a2bada717318",
            "value": 359
          }
        },
        "611dc7cccda94d3ea819296948d56e80": {
          "model_module": "@jupyter-widgets/controls",
          "model_name": "HTMLModel",
          "model_module_version": "1.5.0",
          "state": {
            "_dom_classes": [],
            "_model_module": "@jupyter-widgets/controls",
            "_model_module_version": "1.5.0",
            "_model_name": "HTMLModel",
            "_view_count": null,
            "_view_module": "@jupyter-widgets/controls",
            "_view_module_version": "1.5.0",
            "_view_name": "HTMLView",
            "description": "",
            "description_tooltip": null,
            "layout": "IPY_MODEL_dc1c6560313643d894e376c9e181703b",
            "placeholder": "​",
            "style": "IPY_MODEL_eda6c6437d864c2b80028ffd253da33b",
            "value": " 359/359 [00:00&lt;00:00, 28.0kB/s]"
          }
        },
        "bf03212b498d47ffb8d6a8279d24d14d": {
          "model_module": "@jupyter-widgets/base",
          "model_name": "LayoutModel",
          "model_module_version": "1.2.0",
          "state": {
            "_model_module": "@jupyter-widgets/base",
            "_model_module_version": "1.2.0",
            "_model_name": "LayoutModel",
            "_view_count": null,
            "_view_module": "@jupyter-widgets/base",
            "_view_module_version": "1.2.0",
            "_view_name": "LayoutView",
            "align_content": null,
            "align_items": null,
            "align_self": null,
            "border": null,
            "bottom": null,
            "display": null,
            "flex": null,
            "flex_flow": null,
            "grid_area": null,
            "grid_auto_columns": null,
            "grid_auto_flow": null,
            "grid_auto_rows": null,
            "grid_column": null,
            "grid_gap": null,
            "grid_row": null,
            "grid_template_areas": null,
            "grid_template_columns": null,
            "grid_template_rows": null,
            "height": null,
            "justify_content": null,
            "justify_items": null,
            "left": null,
            "margin": null,
            "max_height": null,
            "max_width": null,
            "min_height": null,
            "min_width": null,
            "object_fit": null,
            "object_position": null,
            "order": null,
            "overflow": null,
            "overflow_x": null,
            "overflow_y": null,
            "padding": null,
            "right": null,
            "top": null,
            "visibility": null,
            "width": null
          }
        },
        "3688b912f31f4bbfb5189d2df842be83": {
          "model_module": "@jupyter-widgets/base",
          "model_name": "LayoutModel",
          "model_module_version": "1.2.0",
          "state": {
            "_model_module": "@jupyter-widgets/base",
            "_model_module_version": "1.2.0",
            "_model_name": "LayoutModel",
            "_view_count": null,
            "_view_module": "@jupyter-widgets/base",
            "_view_module_version": "1.2.0",
            "_view_name": "LayoutView",
            "align_content": null,
            "align_items": null,
            "align_self": null,
            "border": null,
            "bottom": null,
            "display": null,
            "flex": null,
            "flex_flow": null,
            "grid_area": null,
            "grid_auto_columns": null,
            "grid_auto_flow": null,
            "grid_auto_rows": null,
            "grid_column": null,
            "grid_gap": null,
            "grid_row": null,
            "grid_template_areas": null,
            "grid_template_columns": null,
            "grid_template_rows": null,
            "height": null,
            "justify_content": null,
            "justify_items": null,
            "left": null,
            "margin": null,
            "max_height": null,
            "max_width": null,
            "min_height": null,
            "min_width": null,
            "object_fit": null,
            "object_position": null,
            "order": null,
            "overflow": null,
            "overflow_x": null,
            "overflow_y": null,
            "padding": null,
            "right": null,
            "top": null,
            "visibility": null,
            "width": null
          }
        },
        "fa5d16b2759d4b01b8da5dbfbc848a25": {
          "model_module": "@jupyter-widgets/controls",
          "model_name": "DescriptionStyleModel",
          "model_module_version": "1.5.0",
          "state": {
            "_model_module": "@jupyter-widgets/controls",
            "_model_module_version": "1.5.0",
            "_model_name": "DescriptionStyleModel",
            "_view_count": null,
            "_view_module": "@jupyter-widgets/base",
            "_view_module_version": "1.2.0",
            "_view_name": "StyleView",
            "description_width": ""
          }
        },
        "6129470b9f6748359aa712f1136ad2a0": {
          "model_module": "@jupyter-widgets/base",
          "model_name": "LayoutModel",
          "model_module_version": "1.2.0",
          "state": {
            "_model_module": "@jupyter-widgets/base",
            "_model_module_version": "1.2.0",
            "_model_name": "LayoutModel",
            "_view_count": null,
            "_view_module": "@jupyter-widgets/base",
            "_view_module_version": "1.2.0",
            "_view_name": "LayoutView",
            "align_content": null,
            "align_items": null,
            "align_self": null,
            "border": null,
            "bottom": null,
            "display": null,
            "flex": null,
            "flex_flow": null,
            "grid_area": null,
            "grid_auto_columns": null,
            "grid_auto_flow": null,
            "grid_auto_rows": null,
            "grid_column": null,
            "grid_gap": null,
            "grid_row": null,
            "grid_template_areas": null,
            "grid_template_columns": null,
            "grid_template_rows": null,
            "height": null,
            "justify_content": null,
            "justify_items": null,
            "left": null,
            "margin": null,
            "max_height": null,
            "max_width": null,
            "min_height": null,
            "min_width": null,
            "object_fit": null,
            "object_position": null,
            "order": null,
            "overflow": null,
            "overflow_x": null,
            "overflow_y": null,
            "padding": null,
            "right": null,
            "top": null,
            "visibility": null,
            "width": null
          }
        },
        "b6b447ea09ba49e89490a2bada717318": {
          "model_module": "@jupyter-widgets/controls",
          "model_name": "ProgressStyleModel",
          "model_module_version": "1.5.0",
          "state": {
            "_model_module": "@jupyter-widgets/controls",
            "_model_module_version": "1.5.0",
            "_model_name": "ProgressStyleModel",
            "_view_count": null,
            "_view_module": "@jupyter-widgets/base",
            "_view_module_version": "1.2.0",
            "_view_name": "StyleView",
            "bar_color": null,
            "description_width": ""
          }
        },
        "dc1c6560313643d894e376c9e181703b": {
          "model_module": "@jupyter-widgets/base",
          "model_name": "LayoutModel",
          "model_module_version": "1.2.0",
          "state": {
            "_model_module": "@jupyter-widgets/base",
            "_model_module_version": "1.2.0",
            "_model_name": "LayoutModel",
            "_view_count": null,
            "_view_module": "@jupyter-widgets/base",
            "_view_module_version": "1.2.0",
            "_view_name": "LayoutView",
            "align_content": null,
            "align_items": null,
            "align_self": null,
            "border": null,
            "bottom": null,
            "display": null,
            "flex": null,
            "flex_flow": null,
            "grid_area": null,
            "grid_auto_columns": null,
            "grid_auto_flow": null,
            "grid_auto_rows": null,
            "grid_column": null,
            "grid_gap": null,
            "grid_row": null,
            "grid_template_areas": null,
            "grid_template_columns": null,
            "grid_template_rows": null,
            "height": null,
            "justify_content": null,
            "justify_items": null,
            "left": null,
            "margin": null,
            "max_height": null,
            "max_width": null,
            "min_height": null,
            "min_width": null,
            "object_fit": null,
            "object_position": null,
            "order": null,
            "overflow": null,
            "overflow_x": null,
            "overflow_y": null,
            "padding": null,
            "right": null,
            "top": null,
            "visibility": null,
            "width": null
          }
        },
        "eda6c6437d864c2b80028ffd253da33b": {
          "model_module": "@jupyter-widgets/controls",
          "model_name": "DescriptionStyleModel",
          "model_module_version": "1.5.0",
          "state": {
            "_model_module": "@jupyter-widgets/controls",
            "_model_module_version": "1.5.0",
            "_model_name": "DescriptionStyleModel",
            "_view_count": null,
            "_view_module": "@jupyter-widgets/base",
            "_view_module_version": "1.2.0",
            "_view_name": "StyleView",
            "description_width": ""
          }
        },
        "7df9eb33dbdc4ade8c14749d96da056a": {
          "model_module": "@jupyter-widgets/controls",
          "model_name": "HBoxModel",
          "model_module_version": "1.5.0",
          "state": {
            "_dom_classes": [],
            "_model_module": "@jupyter-widgets/controls",
            "_model_module_version": "1.5.0",
            "_model_name": "HBoxModel",
            "_view_count": null,
            "_view_module": "@jupyter-widgets/controls",
            "_view_module_version": "1.5.0",
            "_view_name": "HBoxView",
            "box_style": "",
            "children": [
              "IPY_MODEL_b38b5b79bf254b3ba7d8ae1cd4eff33a",
              "IPY_MODEL_f77052a047764120923a4c46abd2d585",
              "IPY_MODEL_c605b0393a0d41c890ce024001b27ba2"
            ],
            "layout": "IPY_MODEL_5b3562b553214250ba6331957604e241"
          }
        },
        "b38b5b79bf254b3ba7d8ae1cd4eff33a": {
          "model_module": "@jupyter-widgets/controls",
          "model_name": "HTMLModel",
          "model_module_version": "1.5.0",
          "state": {
            "_dom_classes": [],
            "_model_module": "@jupyter-widgets/controls",
            "_model_module_version": "1.5.0",
            "_model_name": "HTMLModel",
            "_view_count": null,
            "_view_module": "@jupyter-widgets/controls",
            "_view_module_version": "1.5.0",
            "_view_name": "HTMLView",
            "description": "",
            "description_tooltip": null,
            "layout": "IPY_MODEL_7d28368e65a64e7a82c41ef0a1e70a4b",
            "placeholder": "​",
            "style": "IPY_MODEL_05452ac617c64025ab22eb3e0b2be2c0",
            "value": "pytorch_model.bin: 100%"
          }
        },
        "f77052a047764120923a4c46abd2d585": {
          "model_module": "@jupyter-widgets/controls",
          "model_name": "FloatProgressModel",
          "model_module_version": "1.5.0",
          "state": {
            "_dom_classes": [],
            "_model_module": "@jupyter-widgets/controls",
            "_model_module_version": "1.5.0",
            "_model_name": "FloatProgressModel",
            "_view_count": null,
            "_view_module": "@jupyter-widgets/controls",
            "_view_module_version": "1.5.0",
            "_view_name": "ProgressView",
            "bar_style": "success",
            "description": "",
            "description_tooltip": null,
            "layout": "IPY_MODEL_46d1d230a4814d41a90bd314ddf0daa2",
            "max": 441551705,
            "min": 0,
            "orientation": "horizontal",
            "style": "IPY_MODEL_792a6ad4ba244162b09896052d09923b",
            "value": 441551705
          }
        },
        "c605b0393a0d41c890ce024001b27ba2": {
          "model_module": "@jupyter-widgets/controls",
          "model_name": "HTMLModel",
          "model_module_version": "1.5.0",
          "state": {
            "_dom_classes": [],
            "_model_module": "@jupyter-widgets/controls",
            "_model_module_version": "1.5.0",
            "_model_name": "HTMLModel",
            "_view_count": null,
            "_view_module": "@jupyter-widgets/controls",
            "_view_module_version": "1.5.0",
            "_view_name": "HTMLView",
            "description": "",
            "description_tooltip": null,
            "layout": "IPY_MODEL_c1d4795f514049078922be95e20a828c",
            "placeholder": "​",
            "style": "IPY_MODEL_f0b7a863c2f941d8920a5d450a06c4ae",
            "value": " 442M/442M [00:03&lt;00:00, 157MB/s]"
          }
        },
        "5b3562b553214250ba6331957604e241": {
          "model_module": "@jupyter-widgets/base",
          "model_name": "LayoutModel",
          "model_module_version": "1.2.0",
          "state": {
            "_model_module": "@jupyter-widgets/base",
            "_model_module_version": "1.2.0",
            "_model_name": "LayoutModel",
            "_view_count": null,
            "_view_module": "@jupyter-widgets/base",
            "_view_module_version": "1.2.0",
            "_view_name": "LayoutView",
            "align_content": null,
            "align_items": null,
            "align_self": null,
            "border": null,
            "bottom": null,
            "display": null,
            "flex": null,
            "flex_flow": null,
            "grid_area": null,
            "grid_auto_columns": null,
            "grid_auto_flow": null,
            "grid_auto_rows": null,
            "grid_column": null,
            "grid_gap": null,
            "grid_row": null,
            "grid_template_areas": null,
            "grid_template_columns": null,
            "grid_template_rows": null,
            "height": null,
            "justify_content": null,
            "justify_items": null,
            "left": null,
            "margin": null,
            "max_height": null,
            "max_width": null,
            "min_height": null,
            "min_width": null,
            "object_fit": null,
            "object_position": null,
            "order": null,
            "overflow": null,
            "overflow_x": null,
            "overflow_y": null,
            "padding": null,
            "right": null,
            "top": null,
            "visibility": null,
            "width": null
          }
        },
        "7d28368e65a64e7a82c41ef0a1e70a4b": {
          "model_module": "@jupyter-widgets/base",
          "model_name": "LayoutModel",
          "model_module_version": "1.2.0",
          "state": {
            "_model_module": "@jupyter-widgets/base",
            "_model_module_version": "1.2.0",
            "_model_name": "LayoutModel",
            "_view_count": null,
            "_view_module": "@jupyter-widgets/base",
            "_view_module_version": "1.2.0",
            "_view_name": "LayoutView",
            "align_content": null,
            "align_items": null,
            "align_self": null,
            "border": null,
            "bottom": null,
            "display": null,
            "flex": null,
            "flex_flow": null,
            "grid_area": null,
            "grid_auto_columns": null,
            "grid_auto_flow": null,
            "grid_auto_rows": null,
            "grid_column": null,
            "grid_gap": null,
            "grid_row": null,
            "grid_template_areas": null,
            "grid_template_columns": null,
            "grid_template_rows": null,
            "height": null,
            "justify_content": null,
            "justify_items": null,
            "left": null,
            "margin": null,
            "max_height": null,
            "max_width": null,
            "min_height": null,
            "min_width": null,
            "object_fit": null,
            "object_position": null,
            "order": null,
            "overflow": null,
            "overflow_x": null,
            "overflow_y": null,
            "padding": null,
            "right": null,
            "top": null,
            "visibility": null,
            "width": null
          }
        },
        "05452ac617c64025ab22eb3e0b2be2c0": {
          "model_module": "@jupyter-widgets/controls",
          "model_name": "DescriptionStyleModel",
          "model_module_version": "1.5.0",
          "state": {
            "_model_module": "@jupyter-widgets/controls",
            "_model_module_version": "1.5.0",
            "_model_name": "DescriptionStyleModel",
            "_view_count": null,
            "_view_module": "@jupyter-widgets/base",
            "_view_module_version": "1.2.0",
            "_view_name": "StyleView",
            "description_width": ""
          }
        },
        "46d1d230a4814d41a90bd314ddf0daa2": {
          "model_module": "@jupyter-widgets/base",
          "model_name": "LayoutModel",
          "model_module_version": "1.2.0",
          "state": {
            "_model_module": "@jupyter-widgets/base",
            "_model_module_version": "1.2.0",
            "_model_name": "LayoutModel",
            "_view_count": null,
            "_view_module": "@jupyter-widgets/base",
            "_view_module_version": "1.2.0",
            "_view_name": "LayoutView",
            "align_content": null,
            "align_items": null,
            "align_self": null,
            "border": null,
            "bottom": null,
            "display": null,
            "flex": null,
            "flex_flow": null,
            "grid_area": null,
            "grid_auto_columns": null,
            "grid_auto_flow": null,
            "grid_auto_rows": null,
            "grid_column": null,
            "grid_gap": null,
            "grid_row": null,
            "grid_template_areas": null,
            "grid_template_columns": null,
            "grid_template_rows": null,
            "height": null,
            "justify_content": null,
            "justify_items": null,
            "left": null,
            "margin": null,
            "max_height": null,
            "max_width": null,
            "min_height": null,
            "min_width": null,
            "object_fit": null,
            "object_position": null,
            "order": null,
            "overflow": null,
            "overflow_x": null,
            "overflow_y": null,
            "padding": null,
            "right": null,
            "top": null,
            "visibility": null,
            "width": null
          }
        },
        "792a6ad4ba244162b09896052d09923b": {
          "model_module": "@jupyter-widgets/controls",
          "model_name": "ProgressStyleModel",
          "model_module_version": "1.5.0",
          "state": {
            "_model_module": "@jupyter-widgets/controls",
            "_model_module_version": "1.5.0",
            "_model_name": "ProgressStyleModel",
            "_view_count": null,
            "_view_module": "@jupyter-widgets/base",
            "_view_module_version": "1.2.0",
            "_view_name": "StyleView",
            "bar_color": null,
            "description_width": ""
          }
        },
        "c1d4795f514049078922be95e20a828c": {
          "model_module": "@jupyter-widgets/base",
          "model_name": "LayoutModel",
          "model_module_version": "1.2.0",
          "state": {
            "_model_module": "@jupyter-widgets/base",
            "_model_module_version": "1.2.0",
            "_model_name": "LayoutModel",
            "_view_count": null,
            "_view_module": "@jupyter-widgets/base",
            "_view_module_version": "1.2.0",
            "_view_name": "LayoutView",
            "align_content": null,
            "align_items": null,
            "align_self": null,
            "border": null,
            "bottom": null,
            "display": null,
            "flex": null,
            "flex_flow": null,
            "grid_area": null,
            "grid_auto_columns": null,
            "grid_auto_flow": null,
            "grid_auto_rows": null,
            "grid_column": null,
            "grid_gap": null,
            "grid_row": null,
            "grid_template_areas": null,
            "grid_template_columns": null,
            "grid_template_rows": null,
            "height": null,
            "justify_content": null,
            "justify_items": null,
            "left": null,
            "margin": null,
            "max_height": null,
            "max_width": null,
            "min_height": null,
            "min_width": null,
            "object_fit": null,
            "object_position": null,
            "order": null,
            "overflow": null,
            "overflow_x": null,
            "overflow_y": null,
            "padding": null,
            "right": null,
            "top": null,
            "visibility": null,
            "width": null
          }
        },
        "f0b7a863c2f941d8920a5d450a06c4ae": {
          "model_module": "@jupyter-widgets/controls",
          "model_name": "DescriptionStyleModel",
          "model_module_version": "1.5.0",
          "state": {
            "_model_module": "@jupyter-widgets/controls",
            "_model_module_version": "1.5.0",
            "_model_name": "DescriptionStyleModel",
            "_view_count": null,
            "_view_module": "@jupyter-widgets/base",
            "_view_module_version": "1.2.0",
            "_view_name": "StyleView",
            "description_width": ""
          }
        }
      }
    },
    "accelerator": "GPU"
  },
  "nbformat": 4,
  "nbformat_minor": 0
}